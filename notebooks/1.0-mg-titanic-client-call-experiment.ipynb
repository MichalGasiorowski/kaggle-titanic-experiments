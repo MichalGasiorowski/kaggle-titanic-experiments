{
 "cells": [
  {
   "cell_type": "code",
   "execution_count": 1,
   "metadata": {
    "collapsed": true
   },
   "outputs": [
    {
     "name": "stdout",
     "output_type": "stream",
     "text": [
      "Python 3.10.6\r\n"
     ]
    }
   ],
   "source": [
    "!python -V"
   ]
  },
  {
   "cell_type": "code",
   "execution_count": 7,
   "outputs": [],
   "source": [
    "import numpy as np\n",
    "import pandas as pd\n",
    "from src.data.read import load_file_from_s3\n",
    "from src.data.read import ID_COLUMN\n",
    "from src.models import predict"
   ],
   "metadata": {
    "collapsed": false
   }
  },
  {
   "cell_type": "code",
   "execution_count": 3,
   "outputs": [
    {
     "data": {
      "text/plain": "mlflow.pyfunc.loaded_model:\n  artifact_path: model\n  flavor: mlflow.xgboost\n  run_id: 21cf301e4e7f459bae86218626159897"
     },
     "execution_count": 3,
     "metadata": {},
     "output_type": "execute_result"
    }
   ],
   "source": [
    "predict.get_model()"
   ],
   "metadata": {
    "collapsed": false
   }
  },
  {
   "cell_type": "code",
   "execution_count": 4,
   "outputs": [],
   "source": [
    "from src.clients import client\n",
    "\n",
    "predict_client = client.PredictClient('http://localhost:9000')\n"
   ],
   "metadata": {
    "collapsed": false
   }
  },
  {
   "cell_type": "code",
   "execution_count": 5,
   "outputs": [
    {
     "data": {
      "text/plain": "'[{\"PassengerId\": -1, \"predictions\": 0.8866254687309265, \"decisions\": 1}]'"
     },
     "execution_count": 5,
     "metadata": {},
     "output_type": "execute_result"
    }
   ],
   "source": [
    "passenger_X = {\"Age\": 23, \"Sex\": 'female', \"Pclass\": 2, \"Embarked\": 'C', \"SibSp\": 1, \"Parch\": 1, \"Fare\": 9}\n",
    "\n",
    "predict_client.lambda_predict(passenger_X)"
   ],
   "metadata": {
    "collapsed": false
   }
  },
  {
   "cell_type": "code",
   "execution_count": 6,
   "outputs": [
    {
     "data": {
      "text/plain": "'[{\"PassengerId\": 892, \"predictions\": 0.17178867757320404, \"decisions\": 0}, {\"PassengerId\": 893, \"predictions\": 0.4923032522201538, \"decisions\": 0}, {\"PassengerId\": 894, \"predictions\": 0.1256335973739624, \"decisions\": 0}, {\"PassengerId\": 895, \"predictions\": 0.1516686975955963, \"decisions\": 0}, {\"PassengerId\": 896, \"predictions\": 0.4442468285560608, \"decisions\": 0}, {\"PassengerId\": 897, \"predictions\": 0.1707412302494049, \"decisions\": 0}, {\"PassengerId\": 898, \"predictions\": 0.7031752467155457, \"decisions\": 1}, {\"PassengerId\": 899, \"predictions\": 0.2966756820678711, \"decisions\": 0}, {\"PassengerId\": 900, \"predictions\": 0.6736209392547607, \"decisions\": 1}, {\"PassengerId\": 901, \"predictions\": 0.10040461272001266, \"decisions\": 0}, {\"PassengerId\": 902, \"predictions\": 0.1366390585899353, \"decisions\": 0}, {\"PassengerId\": 903, \"predictions\": 0.25172755122184753, \"decisions\": 0}, {\"PassengerId\": 904, \"predictions\": 0.9200294017791748, \"decisions\": 1}, {\"PassengerId\": 905, \"predictions\": 0.1651614010334015, \"decisions\": 0}, {\"PassengerId\": 906, \"predictions\": 0.9154147505760193, \"decisions\": 1}, {\"PassengerId\": 907, \"predictions\": 0.8670912384986877, \"decisions\": 1}, {\"PassengerId\": 908, \"predictions\": 0.1481286585330963, \"decisions\": 0}, {\"PassengerId\": 909, \"predictions\": 0.25032660365104675, \"decisions\": 0}, {\"PassengerId\": 910, \"predictions\": 0.466674268245697, \"decisions\": 0}, {\"PassengerId\": 911, \"predictions\": 0.43338125944137573, \"decisions\": 0}, {\"PassengerId\": 912, \"predictions\": 0.4532499611377716, \"decisions\": 0}, {\"PassengerId\": 913, \"predictions\": 0.32713326811790466, \"decisions\": 0}, {\"PassengerId\": 914, \"predictions\": 0.9225779175758362, \"decisions\": 1}, {\"PassengerId\": 915, \"predictions\": 0.47976210713386536, \"decisions\": 0}, {\"PassengerId\": 916, \"predictions\": 0.9381495714187622, \"decisions\": 1}, {\"PassengerId\": 917, \"predictions\": 0.11812359094619751, \"decisions\": 0}, {\"PassengerId\": 918, \"predictions\": 0.9453588724136353, \"decisions\": 1}, {\"PassengerId\": 919, \"predictions\": 0.25032660365104675, \"decisions\": 0}, {\"PassengerId\": 920, \"predictions\": 0.25172755122184753, \"decisions\": 0}, {\"PassengerId\": 921, \"predictions\": 0.15671037137508392, \"decisions\": 0}, {\"PassengerId\": 922, \"predictions\": 0.1651614010334015, \"decisions\": 0}, {\"PassengerId\": 923, \"predictions\": 0.17495054006576538, \"decisions\": 0}, {\"PassengerId\": 924, \"predictions\": 0.4568122625350952, \"decisions\": 0}, {\"PassengerId\": 925, \"predictions\": 0.37165820598602295, \"decisions\": 0}, {\"PassengerId\": 926, \"predictions\": 0.5038584470748901, \"decisions\": 1}, {\"PassengerId\": 927, \"predictions\": 0.17883571982383728, \"decisions\": 0}, {\"PassengerId\": 928, \"predictions\": 0.5101059675216675, \"decisions\": 1}, {\"PassengerId\": 929, \"predictions\": 0.49120911955833435, \"decisions\": 0}, {\"PassengerId\": 930, \"predictions\": 0.1516686975955963, \"decisions\": 0}, {\"PassengerId\": 931, \"predictions\": 0.2559947073459625, \"decisions\": 0}, {\"PassengerId\": 932, \"predictions\": 0.2723839282989502, \"decisions\": 0}, {\"PassengerId\": 933, \"predictions\": 0.3062547743320465, \"decisions\": 0}, {\"PassengerId\": 934, \"predictions\": 0.13395534455776215, \"decisions\": 0}, {\"PassengerId\": 935, \"predictions\": 0.8946087956428528, \"decisions\": 1}, {\"PassengerId\": 936, \"predictions\": 0.9154147505760193, \"decisions\": 1}, {\"PassengerId\": 937, \"predictions\": 0.1516686975955963, \"decisions\": 0}, {\"PassengerId\": 938, \"predictions\": 0.28924012184143066, \"decisions\": 0}, {\"PassengerId\": 939, \"predictions\": 0.1409783661365509, \"decisions\": 0}, {\"PassengerId\": 940, \"predictions\": 0.9412252306938171, \"decisions\": 1}, {\"PassengerId\": 941, \"predictions\": 0.46814489364624023, \"decisions\": 0}, {\"PassengerId\": 942, \"predictions\": 0.31398457288742065, \"decisions\": 0}, {\"PassengerId\": 943, \"predictions\": 0.14692336320877075, \"decisions\": 0}, {\"PassengerId\": 944, \"predictions\": 0.8920474052429199, \"decisions\": 1}, {\"PassengerId\": 945, \"predictions\": 0.8684867024421692, \"decisions\": 1}, {\"PassengerId\": 946, \"predictions\": 0.1553034484386444, \"decisions\": 0}, {\"PassengerId\": 947, \"predictions\": 0.14049993455410004, \"decisions\": 0}, {\"PassengerId\": 948, \"predictions\": 0.16635404527187347, \"decisions\": 0}, {\"PassengerId\": 949, \"predictions\": 0.15323154628276825, \"decisions\": 0}, {\"PassengerId\": 950, \"predictions\": 0.12053429335355759, \"decisions\": 0}, {\"PassengerId\": 951, \"predictions\": 0.9567320942878723, \"decisions\": 1}, {\"PassengerId\": 952, \"predictions\": 0.1707412302494049, \"decisions\": 0}, {\"PassengerId\": 953, \"predictions\": 0.1754552721977234, \"decisions\": 0}, {\"PassengerId\": 954, \"predictions\": 0.14276161789894104, \"decisions\": 0}, {\"PassengerId\": 955, \"predictions\": 0.665762722492218, \"decisions\": 1}, {\"PassengerId\": 956, \"predictions\": 0.8900961875915527, \"decisions\": 1}, {\"PassengerId\": 957, \"predictions\": 0.8914026618003845, \"decisions\": 1}, {\"PassengerId\": 958, \"predictions\": 0.772803008556366, \"decisions\": 1}, {\"PassengerId\": 959, \"predictions\": 0.25172755122184753, \"decisions\": 0}, {\"PassengerId\": 960, \"predictions\": 0.40488317608833313, \"decisions\": 0}, {\"PassengerId\": 961, \"predictions\": 0.9225121736526489, \"decisions\": 1}, {\"PassengerId\": 962, \"predictions\": 0.665762722492218, \"decisions\": 1}, {\"PassengerId\": 963, \"predictions\": 0.12662455439567566, \"decisions\": 0}, {\"PassengerId\": 964, \"predictions\": 0.5058851838111877, \"decisions\": 1}, {\"PassengerId\": 965, \"predictions\": 0.4475119411945343, \"decisions\": 0}, {\"PassengerId\": 966, \"predictions\": 0.9567320942878723, \"decisions\": 1}, {\"PassengerId\": 967, \"predictions\": 0.5677680969238281, \"decisions\": 1}, {\"PassengerId\": 968, \"predictions\": 0.1366390585899353, \"decisions\": 0}, {\"PassengerId\": 969, \"predictions\": 0.8549739718437195, \"decisions\": 1}, {\"PassengerId\": 970, \"predictions\": 0.1666208803653717, \"decisions\": 0}, {\"PassengerId\": 971, \"predictions\": 0.665762722492218, \"decisions\": 1}, {\"PassengerId\": 972, \"predictions\": 0.4238685965538025, \"decisions\": 0}, {\"PassengerId\": 973, \"predictions\": 0.32047098875045776, \"decisions\": 0}, {\"PassengerId\": 974, \"predictions\": 0.25172755122184753, \"decisions\": 0}, {\"PassengerId\": 975, \"predictions\": 0.1366390585899353, \"decisions\": 0}, {\"PassengerId\": 976, \"predictions\": 0.1604100614786148, \"decisions\": 0}, {\"PassengerId\": 977, \"predictions\": 0.190947487950325, \"decisions\": 0}, {\"PassengerId\": 978, \"predictions\": 0.7287787795066833, \"decisions\": 1}, {\"PassengerId\": 979, \"predictions\": 0.5593988299369812, \"decisions\": 1}, {\"PassengerId\": 980, \"predictions\": 0.7031752467155457, \"decisions\": 1}, {\"PassengerId\": 981, \"predictions\": 0.7163975834846497, \"decisions\": 1}, {\"PassengerId\": 982, \"predictions\": 0.4520949721336365, \"decisions\": 0}, {\"PassengerId\": 983, \"predictions\": 0.1366390585899353, \"decisions\": 0}, {\"PassengerId\": 984, \"predictions\": 0.7453213334083557, \"decisions\": 1}, {\"PassengerId\": 985, \"predictions\": 0.1366390585899353, \"decisions\": 0}, {\"PassengerId\": 986, \"predictions\": 0.4475119411945343, \"decisions\": 0}, {\"PassengerId\": 987, \"predictions\": 0.1516686975955963, \"decisions\": 0}, {\"PassengerId\": 988, \"predictions\": 0.9154147505760193, \"decisions\": 1}, {\"PassengerId\": 989, \"predictions\": 0.1516686975955963, \"decisions\": 0}, {\"PassengerId\": 990, \"predictions\": 0.49120911955833435, \"decisions\": 0}, {\"PassengerId\": 991, \"predictions\": 0.16635404527187347, \"decisions\": 0}, {\"PassengerId\": 992, \"predictions\": 0.9323794841766357, \"decisions\": 1}, {\"PassengerId\": 993, \"predictions\": 0.17661936581134796, \"decisions\": 0}, {\"PassengerId\": 994, \"predictions\": 0.1409783661365509, \"decisions\": 0}, {\"PassengerId\": 995, \"predictions\": 0.1516686975955963, \"decisions\": 0}, {\"PassengerId\": 996, \"predictions\": 0.5958153605461121, \"decisions\": 1}, {\"PassengerId\": 997, \"predictions\": 0.1238793209195137, \"decisions\": 0}, {\"PassengerId\": 998, \"predictions\": 0.17991240322589874, \"decisions\": 0}, {\"PassengerId\": 999, \"predictions\": 0.1409783661365509, \"decisions\": 0}, {\"PassengerId\": 1000, \"predictions\": 0.15789014101028442, \"decisions\": 0}, {\"PassengerId\": 1001, \"predictions\": 0.1466412991285324, \"decisions\": 0}, {\"PassengerId\": 1002, \"predictions\": 0.1387777477502823, \"decisions\": 0}, {\"PassengerId\": 1003, \"predictions\": 0.6770435571670532, \"decisions\": 1}, {\"PassengerId\": 1004, \"predictions\": 0.8907467126846313, \"decisions\": 1}, {\"PassengerId\": 1005, \"predictions\": 0.7160300016403198, \"decisions\": 1}, {\"PassengerId\": 1006, \"predictions\": 0.9154147505760193, \"decisions\": 1}, {\"PassengerId\": 1007, \"predictions\": 0.21055778861045837, \"decisions\": 0}, {\"PassengerId\": 1008, \"predictions\": 0.137069970369339, \"decisions\": 0}, {\"PassengerId\": 1009, \"predictions\": 0.506104588508606, \"decisions\": 1}, {\"PassengerId\": 1010, \"predictions\": 0.5677680969238281, \"decisions\": 1}, {\"PassengerId\": 1011, \"predictions\": 0.8458106517791748, \"decisions\": 1}, {\"PassengerId\": 1012, \"predictions\": 0.9105343222618103, \"decisions\": 1}, {\"PassengerId\": 1013, \"predictions\": 0.13321757316589355, \"decisions\": 0}, {\"PassengerId\": 1014, \"predictions\": 0.9500963687896729, \"decisions\": 1}, {\"PassengerId\": 1015, \"predictions\": 0.15323154628276825, \"decisions\": 0}, {\"PassengerId\": 1016, \"predictions\": 0.1409783661365509, \"decisions\": 0}, {\"PassengerId\": 1017, \"predictions\": 0.6133027672767639, \"decisions\": 1}, {\"PassengerId\": 1018, \"predictions\": 0.12662455439567566, \"decisions\": 0}, {\"PassengerId\": 1019, \"predictions\": 0.7494683861732483, \"decisions\": 1}, {\"PassengerId\": 1020, \"predictions\": 0.1495388150215149, \"decisions\": 0}, {\"PassengerId\": 1021, \"predictions\": 0.12662455439567566, \"decisions\": 0}, {\"PassengerId\": 1022, \"predictions\": 0.16635404527187347, \"decisions\": 0}, {\"PassengerId\": 1023, \"predictions\": 0.28924012184143066, \"decisions\": 0}, {\"PassengerId\": 1024, \"predictions\": 0.2823207676410675, \"decisions\": 0}, {\"PassengerId\": 1025, \"predictions\": 0.13463753461837769, \"decisions\": 0}, {\"PassengerId\": 1026, \"predictions\": 0.13395534455776215, \"decisions\": 0}, {\"PassengerId\": 1027, \"predictions\": 0.12662455439567566, \"decisions\": 0}, {\"PassengerId\": 1028, \"predictions\": 0.25683051347732544, \"decisions\": 0}, {\"PassengerId\": 1029, \"predictions\": 0.16012082993984222, \"decisions\": 0}, {\"PassengerId\": 1030, \"predictions\": 0.49120911955833435, \"decisions\": 0}, {\"PassengerId\": 1031, \"predictions\": 0.14367105066776276, \"decisions\": 0}, {\"PassengerId\": 1032, \"predictions\": 0.21417558193206787, \"decisions\": 0}, {\"PassengerId\": 1033, \"predictions\": 0.9446313381195068, \"decisions\": 1}, {\"PassengerId\": 1034, \"predictions\": 0.3745664656162262, \"decisions\": 0}, {\"PassengerId\": 1035, \"predictions\": 0.17661936581134796, \"decisions\": 0}, {\"PassengerId\": 1036, \"predictions\": 0.25172755122184753, \"decisions\": 0}, {\"PassengerId\": 1037, \"predictions\": 0.13316170871257782, \"decisions\": 0}, {\"PassengerId\": 1038, \"predictions\": 0.3062547743320465, \"decisions\": 0}, {\"PassengerId\": 1039, \"predictions\": 0.12662455439567566, \"decisions\": 0}, {\"PassengerId\": 1040, \"predictions\": 0.3062547743320465, \"decisions\": 0}, {\"PassengerId\": 1041, \"predictions\": 0.24363207817077637, \"decisions\": 0}, {\"PassengerId\": 1042, \"predictions\": 0.9453588724136353, \"decisions\": 1}, {\"PassengerId\": 1043, \"predictions\": 0.1758844256401062, \"decisions\": 0}, {\"PassengerId\": 1044, \"predictions\": 0.13804034888744354, \"decisions\": 0}, {\"PassengerId\": 1045, \"predictions\": 0.4959651529788971, \"decisions\": 0}, {\"PassengerId\": 1046, \"predictions\": 0.2309662103652954, \"decisions\": 0}, {\"PassengerId\": 1047, \"predictions\": 0.10858917981386185, \"decisions\": 0}, {\"PassengerId\": 1048, \"predictions\": 0.938770592212677, \"decisions\": 1}, {\"PassengerId\": 1049, \"predictions\": 0.49120911955833435, \"decisions\": 0}, {\"PassengerId\": 1050, \"predictions\": 0.25172755122184753, \"decisions\": 0}, {\"PassengerId\": 1051, \"predictions\": 0.4959651529788971, \"decisions\": 0}, {\"PassengerId\": 1052, \"predictions\": 0.7031752467155457, \"decisions\": 1}, {\"PassengerId\": 1053, \"predictions\": 0.4238685965538025, \"decisions\": 0}, {\"PassengerId\": 1054, \"predictions\": 0.873091459274292, \"decisions\": 1}, {\"PassengerId\": 1055, \"predictions\": 0.11348308622837067, \"decisions\": 0}, {\"PassengerId\": 1056, \"predictions\": 0.1495388150215149, \"decisions\": 0}, {\"PassengerId\": 1057, \"predictions\": 0.45878493785858154, \"decisions\": 0}, {\"PassengerId\": 1058, \"predictions\": 0.28924012184143066, \"decisions\": 0}, {\"PassengerId\": 1059, \"predictions\": 0.31828728318214417, \"decisions\": 0}, {\"PassengerId\": 1060, \"predictions\": 0.9000275731086731, \"decisions\": 1}, {\"PassengerId\": 1061, \"predictions\": 0.49120911955833435, \"decisions\": 0}, {\"PassengerId\": 1062, \"predictions\": 0.11348308622837067, \"decisions\": 0}, {\"PassengerId\": 1063, \"predictions\": 0.25683051347732544, \"decisions\": 0}, {\"PassengerId\": 1064, \"predictions\": 0.12435077875852585, \"decisions\": 0}, {\"PassengerId\": 1065, \"predictions\": 0.137069970369339, \"decisions\": 0}, {\"PassengerId\": 1066, \"predictions\": 0.14367105066776276, \"decisions\": 0}, {\"PassengerId\": 1067, \"predictions\": 0.9206615686416626, \"decisions\": 1}, {\"PassengerId\": 1068, \"predictions\": 0.9102099537849426, \"decisions\": 1}, {\"PassengerId\": 1069, \"predictions\": 0.4532499611377716, \"decisions\": 0}, {\"PassengerId\": 1070, \"predictions\": 0.8983730673789978, \"decisions\": 1}, {\"PassengerId\": 1071, \"predictions\": 0.9478978514671326, \"decisions\": 1}, {\"PassengerId\": 1072, \"predictions\": 0.1666208803653717, \"decisions\": 0}, {\"PassengerId\": 1073, \"predictions\": 0.6155399680137634, \"decisions\": 1}, {\"PassengerId\": 1074, \"predictions\": 0.9024111032485962, \"decisions\": 1}, {\"PassengerId\": 1075, \"predictions\": 0.1409783661365509, \"decisions\": 0}, {\"PassengerId\": 1076, \"predictions\": 0.9462044835090637, \"decisions\": 1}, {\"PassengerId\": 1077, \"predictions\": 0.13193313777446747, \"decisions\": 0}, {\"PassengerId\": 1078, \"predictions\": 0.9012366533279419, \"decisions\": 1}, {\"PassengerId\": 1079, \"predictions\": 0.12874531745910645, \"decisions\": 0}, {\"PassengerId\": 1080, \"predictions\": 0.13943515717983246, \"decisions\": 0}, {\"PassengerId\": 1081, \"predictions\": 0.1754552721977234, \"decisions\": 0}, {\"PassengerId\": 1082, \"predictions\": 0.193170428276062, \"decisions\": 0}, {\"PassengerId\": 1083, \"predictions\": 0.3062547743320465, \"decisions\": 0}, {\"PassengerId\": 1084, \"predictions\": 0.3699246942996979, \"decisions\": 0}, {\"PassengerId\": 1085, \"predictions\": 0.1256335973739624, \"decisions\": 0}, {\"PassengerId\": 1086, \"predictions\": 0.6426839232444763, \"decisions\": 1}, {\"PassengerId\": 1087, \"predictions\": 0.16635404527187347, \"decisions\": 0}, {\"PassengerId\": 1088, \"predictions\": 0.8247209787368774, \"decisions\": 1}, {\"PassengerId\": 1089, \"predictions\": 0.5593988299369812, \"decisions\": 1}, {\"PassengerId\": 1090, \"predictions\": 0.1250074952840805, \"decisions\": 0}, {\"PassengerId\": 1091, \"predictions\": 0.5101059675216675, \"decisions\": 1}, {\"PassengerId\": 1092, \"predictions\": 0.6153099536895752, \"decisions\": 1}, {\"PassengerId\": 1093, \"predictions\": 0.49818143248558044, \"decisions\": 0}, {\"PassengerId\": 1094, \"predictions\": 0.4532499611377716, \"decisions\": 0}, {\"PassengerId\": 1095, \"predictions\": 0.9065744876861572, \"decisions\": 1}, {\"PassengerId\": 1096, \"predictions\": 0.16012082993984222, \"decisions\": 0}, {\"PassengerId\": 1097, \"predictions\": 0.21172800660133362, \"decisions\": 0}, {\"PassengerId\": 1098, \"predictions\": 0.5920098423957825, \"decisions\": 1}, {\"PassengerId\": 1099, \"predictions\": 0.1250074952840805, \"decisions\": 0}, {\"PassengerId\": 1100, \"predictions\": 0.8907467126846313, \"decisions\": 1}, {\"PassengerId\": 1101, \"predictions\": 0.1516686975955963, \"decisions\": 0}, {\"PassengerId\": 1102, \"predictions\": 0.1363062560558319, \"decisions\": 0}, {\"PassengerId\": 1103, \"predictions\": 0.11348308622837067, \"decisions\": 0}, {\"PassengerId\": 1104, \"predictions\": 0.17128628492355347, \"decisions\": 0}, {\"PassengerId\": 1105, \"predictions\": 0.7888094782829285, \"decisions\": 1}, {\"PassengerId\": 1106, \"predictions\": 0.36144089698791504, \"decisions\": 0}, {\"PassengerId\": 1107, \"predictions\": 0.25172755122184753, \"decisions\": 0}, {\"PassengerId\": 1108, \"predictions\": 0.6770435571670532, \"decisions\": 1}, {\"PassengerId\": 1109, \"predictions\": 0.2709628641605377, \"decisions\": 0}, {\"PassengerId\": 1110, \"predictions\": 0.9420430660247803, \"decisions\": 1}, {\"PassengerId\": 1111, \"predictions\": 0.1366390585899353, \"decisions\": 0}, {\"PassengerId\": 1112, \"predictions\": 0.8849216103553772, \"decisions\": 1}, {\"PassengerId\": 1113, \"predictions\": 0.12662455439567566, \"decisions\": 0}, {\"PassengerId\": 1114, \"predictions\": 0.8674412369728088, \"decisions\": 1}, {\"PassengerId\": 1115, \"predictions\": 0.12662455439567566, \"decisions\": 0}, {\"PassengerId\": 1116, \"predictions\": 0.8584510087966919, \"decisions\": 1}, {\"PassengerId\": 1117, \"predictions\": 0.5332556366920471, \"decisions\": 1}, {\"PassengerId\": 1118, \"predictions\": 0.12662455439567566, \"decisions\": 0}, {\"PassengerId\": 1119, \"predictions\": 0.7031752467155457, \"decisions\": 1}, {\"PassengerId\": 1120, \"predictions\": 0.1363062560558319, \"decisions\": 0}, {\"PassengerId\": 1121, \"predictions\": 0.1754552721977234, \"decisions\": 0}, {\"PassengerId\": 1122, \"predictions\": 0.17128628492355347, \"decisions\": 0}, {\"PassengerId\": 1123, \"predictions\": 0.9422446489334106, \"decisions\": 1}, {\"PassengerId\": 1124, \"predictions\": 0.10659971833229065, \"decisions\": 0}, {\"PassengerId\": 1125, \"predictions\": 0.1476559042930603, \"decisions\": 0}, {\"PassengerId\": 1126, \"predictions\": 0.597266674041748, \"decisions\": 1}, {\"PassengerId\": 1127, \"predictions\": 0.12662455439567566, \"decisions\": 0}, {\"PassengerId\": 1128, \"predictions\": 0.4532499611377716, \"decisions\": 0}, {\"PassengerId\": 1129, \"predictions\": 0.25032660365104675, \"decisions\": 0}, {\"PassengerId\": 1130, \"predictions\": 0.90797358751297, \"decisions\": 1}, {\"PassengerId\": 1131, \"predictions\": 0.9323794841766357, \"decisions\": 1}, {\"PassengerId\": 1132, \"predictions\": 0.8584510087966919, \"decisions\": 1}, {\"PassengerId\": 1133, \"predictions\": 0.8800941109657288, \"decisions\": 1}, {\"PassengerId\": 1134, \"predictions\": 0.39515775442123413, \"decisions\": 0}, {\"PassengerId\": 1135, \"predictions\": 0.1366390585899353, \"decisions\": 0}, {\"PassengerId\": 1136, \"predictions\": 0.1289694607257843, \"decisions\": 0}, {\"PassengerId\": 1137, \"predictions\": 0.2780139148235321, \"decisions\": 0}, {\"PassengerId\": 1138, \"predictions\": 0.8823051452636719, \"decisions\": 1}, {\"PassengerId\": 1139, \"predictions\": 0.2800785005092621, \"decisions\": 0}, {\"PassengerId\": 1140, \"predictions\": 0.8458106517791748, \"decisions\": 1}, {\"PassengerId\": 1141, \"predictions\": 0.5335747599601746, \"decisions\": 1}, {\"PassengerId\": 1142, \"predictions\": 0.8789862394332886, \"decisions\": 1}, {\"PassengerId\": 1143, \"predictions\": 0.12662455439567566, \"decisions\": 0}, {\"PassengerId\": 1144, \"predictions\": 0.5611435770988464, \"decisions\": 1}, {\"PassengerId\": 1145, \"predictions\": 0.12662455439567566, \"decisions\": 0}, {\"PassengerId\": 1146, \"predictions\": 0.16635404527187347, \"decisions\": 0}, {\"PassengerId\": 1147, \"predictions\": 0.11348308622837067, \"decisions\": 0}, {\"PassengerId\": 1148, \"predictions\": 0.1409783661365509, \"decisions\": 0}, {\"PassengerId\": 1149, \"predictions\": 0.1516686975955963, \"decisions\": 0}, {\"PassengerId\": 1150, \"predictions\": 0.8674412369728088, \"decisions\": 1}, {\"PassengerId\": 1151, \"predictions\": 0.12662455439567566, \"decisions\": 0}, {\"PassengerId\": 1152, \"predictions\": 0.1473446786403656, \"decisions\": 0}, {\"PassengerId\": 1153, \"predictions\": 0.12662455439567566, \"decisions\": 0}, {\"PassengerId\": 1154, \"predictions\": 0.7861168384552002, \"decisions\": 1}, {\"PassengerId\": 1155, \"predictions\": 0.506104588508606, \"decisions\": 1}, {\"PassengerId\": 1156, \"predictions\": 0.19895769655704498, \"decisions\": 0}, {\"PassengerId\": 1157, \"predictions\": 0.1366390585899353, \"decisions\": 0}, {\"PassengerId\": 1158, \"predictions\": 0.15913313627243042, \"decisions\": 0}, {\"PassengerId\": 1159, \"predictions\": 0.11348308622837067, \"decisions\": 0}, {\"PassengerId\": 1160, \"predictions\": 0.5101059675216675, \"decisions\": 1}, {\"PassengerId\": 1161, \"predictions\": 0.1707412302494049, \"decisions\": 0}, {\"PassengerId\": 1162, \"predictions\": 0.3907950520515442, \"decisions\": 0}, {\"PassengerId\": 1163, \"predictions\": 0.1409783661365509, \"decisions\": 0}, {\"PassengerId\": 1164, \"predictions\": 0.9483286738395691, \"decisions\": 1}, {\"PassengerId\": 1165, \"predictions\": 0.593680739402771, \"decisions\": 1}, {\"PassengerId\": 1166, \"predictions\": 0.137069970369339, \"decisions\": 0}, {\"PassengerId\": 1167, \"predictions\": 0.8638561964035034, \"decisions\": 1}, {\"PassengerId\": 1168, \"predictions\": 0.16012082993984222, \"decisions\": 0}, {\"PassengerId\": 1169, \"predictions\": 0.193170428276062, \"decisions\": 0}, {\"PassengerId\": 1170, \"predictions\": 0.10757321864366531, \"decisions\": 0}, {\"PassengerId\": 1171, \"predictions\": 0.1250074952840805, \"decisions\": 0}, {\"PassengerId\": 1172, \"predictions\": 0.49120911955833435, \"decisions\": 0}, {\"PassengerId\": 1173, \"predictions\": 0.39744773507118225, \"decisions\": 0}, {\"PassengerId\": 1174, \"predictions\": 0.7031752467155457, \"decisions\": 1}, {\"PassengerId\": 1175, \"predictions\": 0.5958153605461121, \"decisions\": 1}, {\"PassengerId\": 1176, \"predictions\": 0.506104588508606, \"decisions\": 1}, {\"PassengerId\": 1177, \"predictions\": 0.126338392496109, \"decisions\": 0}, {\"PassengerId\": 1178, \"predictions\": 0.11348308622837067, \"decisions\": 0}, {\"PassengerId\": 1179, \"predictions\": 0.31398457288742065, \"decisions\": 0}, {\"PassengerId\": 1180, \"predictions\": 0.137069970369339, \"decisions\": 0}, {\"PassengerId\": 1181, \"predictions\": 0.1366390585899353, \"decisions\": 0}, {\"PassengerId\": 1182, \"predictions\": 0.3062547743320465, \"decisions\": 0}, {\"PassengerId\": 1183, \"predictions\": 0.7031752467155457, \"decisions\": 1}, {\"PassengerId\": 1184, \"predictions\": 0.137069970369339, \"decisions\": 0}, {\"PassengerId\": 1185, \"predictions\": 0.2709628641605377, \"decisions\": 0}, {\"PassengerId\": 1186, \"predictions\": 0.16635404527187347, \"decisions\": 0}, {\"PassengerId\": 1187, \"predictions\": 0.1516686975955963, \"decisions\": 0}, {\"PassengerId\": 1188, \"predictions\": 0.8756582140922546, \"decisions\": 1}, {\"PassengerId\": 1189, \"predictions\": 0.15671037137508392, \"decisions\": 0}, {\"PassengerId\": 1190, \"predictions\": 0.3062547743320465, \"decisions\": 0}, {\"PassengerId\": 1191, \"predictions\": 0.1516686975955963, \"decisions\": 0}, {\"PassengerId\": 1192, \"predictions\": 0.16635404527187347, \"decisions\": 0}, {\"PassengerId\": 1193, \"predictions\": 0.1553034484386444, \"decisions\": 0}, {\"PassengerId\": 1194, \"predictions\": 0.19301532208919525, \"decisions\": 0}, {\"PassengerId\": 1195, \"predictions\": 0.12662455439567566, \"decisions\": 0}, {\"PassengerId\": 1196, \"predictions\": 0.7031752467155457, \"decisions\": 1}, {\"PassengerId\": 1197, \"predictions\": 0.8573416471481323, \"decisions\": 1}, {\"PassengerId\": 1198, \"predictions\": 0.31795254349708557, \"decisions\": 0}, {\"PassengerId\": 1199, \"predictions\": 0.48539745807647705, \"decisions\": 0}, {\"PassengerId\": 1200, \"predictions\": 0.2709628641605377, \"decisions\": 0}, {\"PassengerId\": 1201, \"predictions\": 0.3976024389266968, \"decisions\": 0}, {\"PassengerId\": 1202, \"predictions\": 0.1707412302494049, \"decisions\": 0}, {\"PassengerId\": 1203, \"predictions\": 0.25032660365104675, \"decisions\": 0}, {\"PassengerId\": 1204, \"predictions\": 0.11348308622837067, \"decisions\": 0}, {\"PassengerId\": 1205, \"predictions\": 0.5920098423957825, \"decisions\": 1}, {\"PassengerId\": 1206, \"predictions\": 0.9412252306938171, \"decisions\": 1}, {\"PassengerId\": 1207, \"predictions\": 0.7160300016403198, \"decisions\": 1}, {\"PassengerId\": 1208, \"predictions\": 0.4532499611377716, \"decisions\": 0}, {\"PassengerId\": 1209, \"predictions\": 0.1250074952840805, \"decisions\": 0}, {\"PassengerId\": 1210, \"predictions\": 0.1516686975955963, \"decisions\": 0}, {\"PassengerId\": 1211, \"predictions\": 0.17495054006576538, \"decisions\": 0}, {\"PassengerId\": 1212, \"predictions\": 0.1516686975955963, \"decisions\": 0}, {\"PassengerId\": 1213, \"predictions\": 0.25683051347732544, \"decisions\": 0}, {\"PassengerId\": 1214, \"predictions\": 0.16012082993984222, \"decisions\": 0}, {\"PassengerId\": 1215, \"predictions\": 0.385653555393219, \"decisions\": 0}, {\"PassengerId\": 1216, \"predictions\": 0.9446313381195068, \"decisions\": 1}, {\"PassengerId\": 1217, \"predictions\": 0.10858917981386185, \"decisions\": 0}, {\"PassengerId\": 1218, \"predictions\": 0.9335036873817444, \"decisions\": 1}, {\"PassengerId\": 1219, \"predictions\": 0.3907950520515442, \"decisions\": 0}, {\"PassengerId\": 1220, \"predictions\": 0.17661936581134796, \"decisions\": 0}, {\"PassengerId\": 1221, \"predictions\": 0.1250074952840805, \"decisions\": 0}, {\"PassengerId\": 1222, \"predictions\": 0.8800941109657288, \"decisions\": 1}, {\"PassengerId\": 1223, \"predictions\": 0.40488317608833313, \"decisions\": 0}, {\"PassengerId\": 1224, \"predictions\": 0.137069970369339, \"decisions\": 0}, {\"PassengerId\": 1225, \"predictions\": 0.54433673620224, \"decisions\": 1}, {\"PassengerId\": 1226, \"predictions\": 0.1516686975955963, \"decisions\": 0}, {\"PassengerId\": 1227, \"predictions\": 0.3062547743320465, \"decisions\": 0}, {\"PassengerId\": 1228, \"predictions\": 0.1754552721977234, \"decisions\": 0}, {\"PassengerId\": 1229, \"predictions\": 0.10068511962890625, \"decisions\": 0}, {\"PassengerId\": 1230, \"predictions\": 0.17661936581134796, \"decisions\": 0}, {\"PassengerId\": 1231, \"predictions\": 0.137069970369339, \"decisions\": 0}, {\"PassengerId\": 1232, \"predictions\": 0.1466412991285324, \"decisions\": 0}, {\"PassengerId\": 1233, \"predictions\": 0.126338392496109, \"decisions\": 0}, {\"PassengerId\": 1234, \"predictions\": 0.17474374175071716, \"decisions\": 0}, {\"PassengerId\": 1235, \"predictions\": 0.9496929049491882, \"decisions\": 1}, {\"PassengerId\": 1236, \"predictions\": 0.1832772195339203, \"decisions\": 0}, {\"PassengerId\": 1237, \"predictions\": 0.6509909629821777, \"decisions\": 1}, {\"PassengerId\": 1238, \"predictions\": 0.16012082993984222, \"decisions\": 0}, {\"PassengerId\": 1239, \"predictions\": 0.619832456111908, \"decisions\": 1}, {\"PassengerId\": 1240, \"predictions\": 0.1250074952840805, \"decisions\": 0}, {\"PassengerId\": 1241, \"predictions\": 0.8882660865783691, \"decisions\": 1}, {\"PassengerId\": 1242, \"predictions\": 0.9496929049491882, \"decisions\": 1}, {\"PassengerId\": 1243, \"predictions\": 0.16012082993984222, \"decisions\": 0}, {\"PassengerId\": 1244, \"predictions\": 0.17128628492355347, \"decisions\": 0}, {\"PassengerId\": 1245, \"predictions\": 0.1813971996307373, \"decisions\": 0}, {\"PassengerId\": 1246, \"predictions\": 0.5041179656982422, \"decisions\": 1}, {\"PassengerId\": 1247, \"predictions\": 0.25172755122184753, \"decisions\": 0}, {\"PassengerId\": 1248, \"predictions\": 0.8956683874130249, \"decisions\": 1}, {\"PassengerId\": 1249, \"predictions\": 0.1366390585899353, \"decisions\": 0}, {\"PassengerId\": 1250, \"predictions\": 0.1409783661365509, \"decisions\": 0}, {\"PassengerId\": 1251, \"predictions\": 0.4315108060836792, \"decisions\": 0}, {\"PassengerId\": 1252, \"predictions\": 0.260770708322525, \"decisions\": 0}, {\"PassengerId\": 1253, \"predictions\": 0.8881596922874451, \"decisions\": 1}, {\"PassengerId\": 1254, \"predictions\": 0.8882660865783691, \"decisions\": 1}, {\"PassengerId\": 1255, \"predictions\": 0.1516686975955963, \"decisions\": 0}, {\"PassengerId\": 1256, \"predictions\": 0.9483286738395691, \"decisions\": 1}, {\"PassengerId\": 1257, \"predictions\": 0.2556396424770355, \"decisions\": 0}, {\"PassengerId\": 1258, \"predictions\": 0.190947487950325, \"decisions\": 0}, {\"PassengerId\": 1259, \"predictions\": 0.4706231951713562, \"decisions\": 0}, {\"PassengerId\": 1260, \"predictions\": 0.9496929049491882, \"decisions\": 1}, {\"PassengerId\": 1261, \"predictions\": 0.1757252812385559, \"decisions\": 0}, {\"PassengerId\": 1262, \"predictions\": 0.1250074952840805, \"decisions\": 0}, {\"PassengerId\": 1263, \"predictions\": 0.9567320942878723, \"decisions\": 1}, {\"PassengerId\": 1264, \"predictions\": 0.12604118883609772, \"decisions\": 0}, {\"PassengerId\": 1265, \"predictions\": 0.1495388150215149, \"decisions\": 0}, {\"PassengerId\": 1266, \"predictions\": 0.9273137450218201, \"decisions\": 1}, {\"PassengerId\": 1267, \"predictions\": 0.9412252306938171, \"decisions\": 1}, {\"PassengerId\": 1268, \"predictions\": 0.4231349527835846, \"decisions\": 0}, {\"PassengerId\": 1269, \"predictions\": 0.1250074952840805, \"decisions\": 0}, {\"PassengerId\": 1270, \"predictions\": 0.25172755122184753, \"decisions\": 0}, {\"PassengerId\": 1271, \"predictions\": 0.2309662103652954, \"decisions\": 0}, {\"PassengerId\": 1272, \"predictions\": 0.1409783661365509, \"decisions\": 0}, {\"PassengerId\": 1273, \"predictions\": 0.203253373503685, \"decisions\": 0}, {\"PassengerId\": 1274, \"predictions\": 0.4427274167537689, \"decisions\": 0}, {\"PassengerId\": 1275, \"predictions\": 0.41307055950164795, \"decisions\": 0}, {\"PassengerId\": 1276, \"predictions\": 0.1666208803653717, \"decisions\": 0}, {\"PassengerId\": 1277, \"predictions\": 0.8408671021461487, \"decisions\": 1}, {\"PassengerId\": 1278, \"predictions\": 0.12662455439567566, \"decisions\": 0}, {\"PassengerId\": 1279, \"predictions\": 0.1495388150215149, \"decisions\": 0}, {\"PassengerId\": 1280, \"predictions\": 0.12405690550804138, \"decisions\": 0}, {\"PassengerId\": 1281, \"predictions\": 0.31847283244132996, \"decisions\": 0}, {\"PassengerId\": 1282, \"predictions\": 0.31398457288742065, \"decisions\": 0}, {\"PassengerId\": 1283, \"predictions\": 0.8839653730392456, \"decisions\": 1}, {\"PassengerId\": 1284, \"predictions\": 0.46911361813545227, \"decisions\": 0}, {\"PassengerId\": 1285, \"predictions\": 0.1495388150215149, \"decisions\": 0}, {\"PassengerId\": 1286, \"predictions\": 0.18956048786640167, \"decisions\": 0}, {\"PassengerId\": 1287, \"predictions\": 0.9024111032485962, \"decisions\": 1}, {\"PassengerId\": 1288, \"predictions\": 0.12405690550804138, \"decisions\": 0}, {\"PassengerId\": 1289, \"predictions\": 0.9420430660247803, \"decisions\": 1}, {\"PassengerId\": 1290, \"predictions\": 0.12662455439567566, \"decisions\": 0}, {\"PassengerId\": 1291, \"predictions\": 0.10353338718414307, \"decisions\": 0}, {\"PassengerId\": 1292, \"predictions\": 0.9513578414916992, \"decisions\": 1}, {\"PassengerId\": 1293, \"predictions\": 0.13193313777446747, \"decisions\": 0}, {\"PassengerId\": 1294, \"predictions\": 0.9453588724136353, \"decisions\": 1}, {\"PassengerId\": 1295, \"predictions\": 0.3247534930706024, \"decisions\": 0}, {\"PassengerId\": 1296, \"predictions\": 0.3446468710899353, \"decisions\": 0}, {\"PassengerId\": 1297, \"predictions\": 0.19057482481002808, \"decisions\": 0}, {\"PassengerId\": 1298, \"predictions\": 0.1250074952840805, \"decisions\": 0}, {\"PassengerId\": 1299, \"predictions\": 0.39515775442123413, \"decisions\": 0}, {\"PassengerId\": 1300, \"predictions\": 0.7031752467155457, \"decisions\": 1}, {\"PassengerId\": 1301, \"predictions\": 0.506104588508606, \"decisions\": 1}, {\"PassengerId\": 1302, \"predictions\": 0.7031752467155457, \"decisions\": 1}, {\"PassengerId\": 1303, \"predictions\": 0.9367780089378357, \"decisions\": 1}, {\"PassengerId\": 1304, \"predictions\": 0.5058851838111877, \"decisions\": 1}, {\"PassengerId\": 1305, \"predictions\": 0.1366390585899353, \"decisions\": 0}, {\"PassengerId\": 1306, \"predictions\": 0.9567320942878723, \"decisions\": 1}, {\"PassengerId\": 1307, \"predictions\": 0.126338392496109, \"decisions\": 0}, {\"PassengerId\": 1308, \"predictions\": 0.1366390585899353, \"decisions\": 0}, {\"PassengerId\": 1309, \"predictions\": 0.47192907333374023, \"decisions\": 0}]'"
     },
     "execution_count": 6,
     "metadata": {},
     "output_type": "execute_result"
    }
   ],
   "source": [
    "lambda_json_s3_path = \"s3://mlflow-enkidupal-experiments/data/external/test/test.csv\"\n",
    "\n",
    "response = predict_client.lambda_predict_s3path(lambda_json_s3_path)\n",
    "response\n"
   ],
   "metadata": {
    "collapsed": false
   }
  },
  {
   "cell_type": "code",
   "execution_count": 9,
   "outputs": [
    {
     "data": {
      "text/plain": "     PassengerId  predictions  decisions\n0            892     0.171789          0\n1            893     0.492303          0\n2            894     0.125634          0\n3            895     0.151669          0\n4            896     0.444247          0\n..           ...          ...        ...\n413         1305     0.136639          0\n414         1306     0.956732          1\n415         1307     0.126338          0\n416         1308     0.136639          0\n417         1309     0.471929          0\n\n[418 rows x 3 columns]",
      "text/html": "<div>\n<style scoped>\n    .dataframe tbody tr th:only-of-type {\n        vertical-align: middle;\n    }\n\n    .dataframe tbody tr th {\n        vertical-align: top;\n    }\n\n    .dataframe thead th {\n        text-align: right;\n    }\n</style>\n<table border=\"1\" class=\"dataframe\">\n  <thead>\n    <tr style=\"text-align: right;\">\n      <th></th>\n      <th>PassengerId</th>\n      <th>predictions</th>\n      <th>decisions</th>\n    </tr>\n  </thead>\n  <tbody>\n    <tr>\n      <th>0</th>\n      <td>892</td>\n      <td>0.171789</td>\n      <td>0</td>\n    </tr>\n    <tr>\n      <th>1</th>\n      <td>893</td>\n      <td>0.492303</td>\n      <td>0</td>\n    </tr>\n    <tr>\n      <th>2</th>\n      <td>894</td>\n      <td>0.125634</td>\n      <td>0</td>\n    </tr>\n    <tr>\n      <th>3</th>\n      <td>895</td>\n      <td>0.151669</td>\n      <td>0</td>\n    </tr>\n    <tr>\n      <th>4</th>\n      <td>896</td>\n      <td>0.444247</td>\n      <td>0</td>\n    </tr>\n    <tr>\n      <th>...</th>\n      <td>...</td>\n      <td>...</td>\n      <td>...</td>\n    </tr>\n    <tr>\n      <th>413</th>\n      <td>1305</td>\n      <td>0.136639</td>\n      <td>0</td>\n    </tr>\n    <tr>\n      <th>414</th>\n      <td>1306</td>\n      <td>0.956732</td>\n      <td>1</td>\n    </tr>\n    <tr>\n      <th>415</th>\n      <td>1307</td>\n      <td>0.126338</td>\n      <td>0</td>\n    </tr>\n    <tr>\n      <th>416</th>\n      <td>1308</td>\n      <td>0.136639</td>\n      <td>0</td>\n    </tr>\n    <tr>\n      <th>417</th>\n      <td>1309</td>\n      <td>0.471929</td>\n      <td>0</td>\n    </tr>\n  </tbody>\n</table>\n<p>418 rows × 3 columns</p>\n</div>"
     },
     "execution_count": 9,
     "metadata": {},
     "output_type": "execute_result"
    }
   ],
   "source": [
    "df2 = pd.read_json(response)\n",
    "df2"
   ],
   "metadata": {
    "collapsed": false
   }
  },
  {
   "cell_type": "code",
   "execution_count": 8,
   "outputs": [
    {
     "data": {
      "text/plain": "   Age     Sex  Pclass Embarked  SibSp  Parch  Fare\n0   23  female       2        C      1      1     9",
      "text/html": "<div>\n<style scoped>\n    .dataframe tbody tr th:only-of-type {\n        vertical-align: middle;\n    }\n\n    .dataframe tbody tr th {\n        vertical-align: top;\n    }\n\n    .dataframe thead th {\n        text-align: right;\n    }\n</style>\n<table border=\"1\" class=\"dataframe\">\n  <thead>\n    <tr style=\"text-align: right;\">\n      <th></th>\n      <th>Age</th>\n      <th>Sex</th>\n      <th>Pclass</th>\n      <th>Embarked</th>\n      <th>SibSp</th>\n      <th>Parch</th>\n      <th>Fare</th>\n    </tr>\n  </thead>\n  <tbody>\n    <tr>\n      <th>0</th>\n      <td>23</td>\n      <td>female</td>\n      <td>2</td>\n      <td>C</td>\n      <td>1</td>\n      <td>1</td>\n      <td>9</td>\n    </tr>\n  </tbody>\n</table>\n</div>"
     },
     "execution_count": 8,
     "metadata": {},
     "output_type": "execute_result"
    }
   ],
   "source": [
    "passenger_X = {\"Age\": 23, \"Sex\": 'female', \"Pclass\": 2, \"Embarked\": 'C', \"SibSp\": 1, \"Parch\": 1, \"Fare\": 9}\n",
    "\n",
    "test_df = predict.create_features(passenger_X)\n",
    "\n",
    "test_df\n"
   ],
   "metadata": {
    "collapsed": false
   }
  },
  {
   "cell_type": "code",
   "execution_count": 9,
   "outputs": [
    {
     "name": "stdout",
     "output_type": "stream",
     "text": [
      "mlflow.pyfunc.loaded_model:\n",
      "  artifact_path: model\n",
      "  flavor: mlflow.xgboost\n",
      "  run_id: 21cf301e4e7f459bae86218626159897\n",
      "\n",
      "   PassengerId Pclass                                          Name     Sex  \\\n",
      "0          892      3                              Kelly, Mr. James    male   \n",
      "1          893      3              Wilkes, Mrs. James (Ellen Needs)  female   \n",
      "2          894      2                     Myles, Mr. Thomas Francis    male   \n",
      "3          895      3                              Wirz, Mr. Albert    male   \n",
      "4          896      3  Hirvonen, Mrs. Alexander (Helga E Lindqvist)  female   \n",
      "\n",
      "    Age SibSp Parch   Ticket     Fare Cabin Embarked  \n",
      "0  34.5     0     0   330911   7.8292   NaN        Q  \n",
      "1  47.0     1     0   363272   7.0000   NaN        S  \n",
      "2  62.0     0     0   240276   9.6875   NaN        Q  \n",
      "3  27.0     0     0   315154   8.6625   NaN        S  \n",
      "4  22.0     1     1  3101298  12.2875   NaN        S  \n",
      "[ 892  893  894  895  896  897  898  899  900  901  902  903  904  905\n",
      "  906  907  908  909  910  911  912  913  914  915  916  917  918  919\n",
      "  920  921  922  923  924  925  926  927  928  929  930  931  932  933\n",
      "  934  935  936  937  938  939  940  941  942  943  944  945  946  947\n",
      "  948  949  950  951  952  953  954  955  956  957  958  959  960  961\n",
      "  962  963  964  965  966  967  968  969  970  971  972  973  974  975\n",
      "  976  977  978  979  980  981  982  983  984  985  986  987  988  989\n",
      "  990  991  992  993  994  995  996  997  998  999 1000 1001 1002 1003\n",
      " 1004 1005 1006 1007 1008 1009 1010 1011 1012 1013 1014 1015 1016 1017\n",
      " 1018 1019 1020 1021 1022 1023 1024 1025 1026 1027 1028 1029 1030 1031\n",
      " 1032 1033 1034 1035 1036 1037 1038 1039 1040 1041 1042 1043 1044 1045\n",
      " 1046 1047 1048 1049 1050 1051 1052 1053 1054 1055 1056 1057 1058 1059\n",
      " 1060 1061 1062 1063 1064 1065 1066 1067 1068 1069 1070 1071 1072 1073\n",
      " 1074 1075 1076 1077 1078 1079 1080 1081 1082 1083 1084 1085 1086 1087\n",
      " 1088 1089 1090 1091 1092 1093 1094 1095 1096 1097 1098 1099 1100 1101\n",
      " 1102 1103 1104 1105 1106 1107 1108 1109 1110 1111 1112 1113 1114 1115\n",
      " 1116 1117 1118 1119 1120 1121 1122 1123 1124 1125 1126 1127 1128 1129\n",
      " 1130 1131 1132 1133 1134 1135 1136 1137 1138 1139 1140 1141 1142 1143\n",
      " 1144 1145 1146 1147 1148 1149 1150 1151 1152 1153 1154 1155 1156 1157\n",
      " 1158 1159 1160 1161 1162 1163 1164 1165 1166 1167 1168 1169 1170 1171\n",
      " 1172 1173 1174 1175 1176 1177 1178 1179 1180 1181 1182 1183 1184 1185\n",
      " 1186 1187 1188 1189 1190 1191 1192 1193 1194 1195 1196 1197 1198 1199\n",
      " 1200 1201 1202 1203 1204 1205 1206 1207 1208 1209 1210 1211 1212 1213\n",
      " 1214 1215 1216 1217 1218 1219 1220 1221 1222 1223 1224 1225 1226 1227\n",
      " 1228 1229 1230 1231 1232 1233 1234 1235 1236 1237 1238 1239 1240 1241\n",
      " 1242 1243 1244 1245 1246 1247 1248 1249 1250 1251 1252 1253 1254 1255\n",
      " 1256 1257 1258 1259 1260 1261 1262 1263 1264 1265 1266 1267 1268 1269\n",
      " 1270 1271 1272 1273 1274 1275 1276 1277 1278 1279 1280 1281 1282 1283\n",
      " 1284 1285 1286 1287 1288 1289 1290 1291 1292 1293 1294 1295 1296 1297\n",
      " 1298 1299 1300 1301 1302 1303 1304 1305 1306 1307 1308 1309]\n"
     ]
    }
   ],
   "source": [
    "from src.data.read import load_file_from_s3\n",
    "from src.features.build_features import get_all_columns, preprocess_test, get_all_test_columns\n",
    "\n",
    "model = predict.get_model()\n",
    "preprocessor = predict.get_preprocessor()\n",
    "\n",
    "lambda_json_s3_path = \"s3://mlflow-enkidupal-experiments/data/external/test/test.csv\"\n",
    "test_df = predict.create_features_for_s3_path(lambda_json_s3_path)\n",
    "#test_df.head()\n",
    "\n",
    "first_column_id = test_df.iloc[:, 0]\n",
    "\n",
    "X_test = preprocess_test(test_df, preprocessor)\n",
    "\n",
    "print(model)\n",
    "\n",
    "predictions_np = model.predict(X_test)\n",
    "predictions = predictions_np.tolist()\n",
    "\n",
    "decisions = [1 if p >= 0.5 else 0 for p in predictions]\n",
    "result = {'predictions': list(predictions), 'decisions': list(decisions)}\n",
    "print(test_df.head())\n",
    "\n",
    "print(first_column_id.to_numpy())\n",
    "#print(predictions_np)"
   ],
   "metadata": {
    "collapsed": false
   }
  },
  {
   "cell_type": "code",
   "execution_count": 56,
   "outputs": [
    {
     "name": "stdout",
     "output_type": "stream",
     "text": [
      "[[892 0.17178867757320404 0]\n",
      " [893 0.4923032522201538 0]\n",
      " [894 0.1256335973739624 0]\n",
      " ...\n",
      " [1307 0.126338392496109 0]\n",
      " [1308 0.1366390585899353 0]\n",
      " [1309 0.47192907333374023 0]]\n"
     ]
    },
    {
     "data": {
      "text/plain": "'[[0.1717886776,0],[0.4923032522,0],[0.1256335974,0],[0.1516686976,0],[0.4442468286,0],[0.1707412302,0],[0.7031752467,1],[0.2966756821,0],[0.6736209393,1],[0.1004046127,0],[0.1366390586,0],[0.2517275512,0],[0.9200294018,1],[0.165161401,0],[0.9154147506,1],[0.8670912385,1],[0.1481286585,0],[0.2503266037,0],[0.4666742682,0],[0.4333812594,0],[0.4532499611,0],[0.3271332681,0],[0.9225779176,1],[0.4797621071,0],[0.9381495714,1],[0.1181235909,0],[0.9453588724,1],[0.2503266037,0],[0.2517275512,0],[0.1567103714,0],[0.165161401,0],[0.1749505401,0],[0.4568122625,0],[0.371658206,0],[0.5038584471,1],[0.1788357198,0],[0.5101059675,1],[0.4912091196,0],[0.1516686976,0],[0.2559947073,0],[0.2723839283,0],[0.3062547743,0],[0.1339553446,0],[0.8946087956,1],[0.9154147506,1],[0.1516686976,0],[0.2892401218,0],[0.1409783661,0],[0.9412252307,1],[0.4681448936,0],[0.3139845729,0],[0.1469233632,0],[0.8920474052,1],[0.8684867024,1],[0.1553034484,0],[0.1404999346,0],[0.1663540453,0],[0.1532315463,0],[0.1205342934,0],[0.9567320943,1],[0.1707412302,0],[0.1754552722,0],[0.1427616179,0],[0.6657627225,1],[0.8900961876,1],[0.8914026618,1],[0.7728030086,1],[0.2517275512,0],[0.4048831761,0],[0.9225121737,1],[0.6657627225,1],[0.1266245544,0],[0.5058851838,1],[0.4475119412,0],[0.9567320943,1],[0.5677680969,1],[0.1366390586,0],[0.8549739718,1],[0.1666208804,0],[0.6657627225,1],[0.4238685966,0],[0.3204709888,0],[0.2517275512,0],[0.1366390586,0],[0.1604100615,0],[0.190947488,0],[0.7287787795,1],[0.5593988299,1],[0.7031752467,1],[0.7163975835,1],[0.4520949721,0],[0.1366390586,0],[0.7453213334,1],[0.1366390586,0],[0.4475119412,0],[0.1516686976,0],[0.9154147506,1],[0.1516686976,0],[0.4912091196,0],[0.1663540453,0],[0.9323794842,1],[0.1766193658,0],[0.1409783661,0],[0.1516686976,0],[0.5958153605,1],[0.1238793209,0],[0.1799124032,0],[0.1409783661,0],[0.157890141,0],[0.1466412991,0],[0.1387777478,0],[0.6770435572,1],[0.8907467127,1],[0.7160300016,1],[0.9154147506,1],[0.2105577886,0],[0.1370699704,0],[0.5061045885,1],[0.5677680969,1],[0.8458106518,1],[0.9105343223,1],[0.1332175732,0],[0.9500963688,1],[0.1532315463,0],[0.1409783661,0],[0.6133027673,1],[0.1266245544,0],[0.7494683862,1],[0.149538815,0],[0.1266245544,0],[0.1663540453,0],[0.2892401218,0],[0.2823207676,0],[0.1346375346,0],[0.1339553446,0],[0.1266245544,0],[0.2568305135,0],[0.1601208299,0],[0.4912091196,0],[0.1436710507,0],[0.2141755819,0],[0.9446313381,1],[0.3745664656,0],[0.1766193658,0],[0.2517275512,0],[0.1331617087,0],[0.3062547743,0],[0.1266245544,0],[0.3062547743,0],[0.2436320782,0],[0.9453588724,1],[0.1758844256,0],[0.1380403489,0],[0.495965153,0],[0.2309662104,0],[0.1085891798,0],[0.9387705922,1],[0.4912091196,0],[0.2517275512,0],[0.495965153,0],[0.7031752467,1],[0.4238685966,0],[0.8730914593,1],[0.1134830862,0],[0.149538815,0],[0.4587849379,0],[0.2892401218,0],[0.3182872832,0],[0.9000275731,1],[0.4912091196,0],[0.1134830862,0],[0.2568305135,0],[0.1243507788,0],[0.1370699704,0],[0.1436710507,0],[0.9206615686,1],[0.9102099538,1],[0.4532499611,0],[0.8983730674,1],[0.9478978515,1],[0.1666208804,0],[0.615539968,1],[0.9024111032,1],[0.1409783661,0],[0.9462044835,1],[0.1319331378,0],[0.9012366533,1],[0.1287453175,0],[0.1394351572,0],[0.1754552722,0],[0.1931704283,0],[0.3062547743,0],[0.3699246943,0],[0.1256335974,0],[0.6426839232,1],[0.1663540453,0],[0.8247209787,1],[0.5593988299,1],[0.1250074953,0],[0.5101059675,1],[0.6153099537,1],[0.4981814325,0],[0.4532499611,0],[0.9065744877,1],[0.1601208299,0],[0.2117280066,0],[0.5920098424,1],[0.1250074953,0],[0.8907467127,1],[0.1516686976,0],[0.1363062561,0],[0.1134830862,0],[0.1712862849,0],[0.7888094783,1],[0.361440897,0],[0.2517275512,0],[0.6770435572,1],[0.2709628642,0],[0.942043066,1],[0.1366390586,0],[0.8849216104,1],[0.1266245544,0],[0.867441237,1],[0.1266245544,0],[0.8584510088,1],[0.5332556367,1],[0.1266245544,0],[0.7031752467,1],[0.1363062561,0],[0.1754552722,0],[0.1712862849,0],[0.9422446489,1],[0.1065997183,0],[0.1476559043,0],[0.597266674,1],[0.1266245544,0],[0.4532499611,0],[0.2503266037,0],[0.9079735875,1],[0.9323794842,1],[0.8584510088,1],[0.880094111,1],[0.3951577544,0],[0.1366390586,0],[0.1289694607,0],[0.2780139148,0],[0.8823051453,1],[0.2800785005,0],[0.8458106518,1],[0.53357476,1],[0.8789862394,1],[0.1266245544,0],[0.5611435771,1],[0.1266245544,0],[0.1663540453,0],[0.1134830862,0],[0.1409783661,0],[0.1516686976,0],[0.867441237,1],[0.1266245544,0],[0.1473446786,0],[0.1266245544,0],[0.7861168385,1],[0.5061045885,1],[0.1989576966,0],[0.1366390586,0],[0.1591331363,0],[0.1134830862,0],[0.5101059675,1],[0.1707412302,0],[0.3907950521,0],[0.1409783661,0],[0.9483286738,1],[0.5936807394,1],[0.1370699704,0],[0.8638561964,1],[0.1601208299,0],[0.1931704283,0],[0.1075732186,0],[0.1250074953,0],[0.4912091196,0],[0.3974477351,0],[0.7031752467,1],[0.5958153605,1],[0.5061045885,1],[0.1263383925,0],[0.1134830862,0],[0.3139845729,0],[0.1370699704,0],[0.1366390586,0],[0.3062547743,0],[0.7031752467,1],[0.1370699704,0],[0.2709628642,0],[0.1663540453,0],[0.1516686976,0],[0.8756582141,1],[0.1567103714,0],[0.3062547743,0],[0.1516686976,0],[0.1663540453,0],[0.1553034484,0],[0.1930153221,0],[0.1266245544,0],[0.7031752467,1],[0.8573416471,1],[0.3179525435,0],[0.4853974581,0],[0.2709628642,0],[0.3976024389,0],[0.1707412302,0],[0.2503266037,0],[0.1134830862,0],[0.5920098424,1],[0.9412252307,1],[0.7160300016,1],[0.4532499611,0],[0.1250074953,0],[0.1516686976,0],[0.1749505401,0],[0.1516686976,0],[0.2568305135,0],[0.1601208299,0],[0.3856535554,0],[0.9446313381,1],[0.1085891798,0],[0.9335036874,1],[0.3907950521,0],[0.1766193658,0],[0.1250074953,0],[0.880094111,1],[0.4048831761,0],[0.1370699704,0],[0.5443367362,1],[0.1516686976,0],[0.3062547743,0],[0.1754552722,0],[0.1006851196,0],[0.1766193658,0],[0.1370699704,0],[0.1466412991,0],[0.1263383925,0],[0.1747437418,0],[0.9496929049,1],[0.1832772195,0],[0.650990963,1],[0.1601208299,0],[0.6198324561,1],[0.1250074953,0],[0.8882660866,1],[0.9496929049,1],[0.1601208299,0],[0.1712862849,0],[0.1813971996,0],[0.5041179657,1],[0.2517275512,0],[0.8956683874,1],[0.1366390586,0],[0.1409783661,0],[0.4315108061,0],[0.2607707083,0],[0.8881596923,1],[0.8882660866,1],[0.1516686976,0],[0.9483286738,1],[0.2556396425,0],[0.190947488,0],[0.4706231952,0],[0.9496929049,1],[0.1757252812,0],[0.1250074953,0],[0.9567320943,1],[0.1260411888,0],[0.149538815,0],[0.927313745,1],[0.9412252307,1],[0.4231349528,0],[0.1250074953,0],[0.2517275512,0],[0.2309662104,0],[0.1409783661,0],[0.2032533735,0],[0.4427274168,0],[0.4130705595,0],[0.1666208804,0],[0.8408671021,1],[0.1266245544,0],[0.149538815,0],[0.1240569055,0],[0.3184728324,0],[0.3139845729,0],[0.883965373,1],[0.4691136181,0],[0.149538815,0],[0.1895604879,0],[0.9024111032,1],[0.1240569055,0],[0.942043066,1],[0.1266245544,0],[0.1035333872,0],[0.9513578415,1],[0.1319331378,0],[0.9453588724,1],[0.3247534931,0],[0.3446468711,0],[0.1905748248,0],[0.1250074953,0],[0.3951577544,0],[0.7031752467,1],[0.5061045885,1],[0.7031752467,1],[0.9367780089,1],[0.5058851838,1],[0.1366390586,0],[0.9567320943,1],[0.1263383925,0],[0.1366390586,0],[0.4719290733,0]]'"
     },
     "execution_count": 56,
     "metadata": {},
     "output_type": "execute_result"
    }
   ],
   "source": [
    "import pandas as pd\n",
    "\n",
    "import json\n",
    "test_df = predict.create_features_for_s3_path(lambda_json_s3_path)\n",
    "#test_df.head()\n",
    "\n",
    "# decisions = [1 if p >= 0.5 else 0 for p in predictions]\n",
    "\n",
    "test_np = test_df.to_numpy()\n",
    "test_np\n",
    "first_column_id = test_np[:, 0]\n",
    "first_column_id\n",
    "\n",
    "# np.vectorize(my_dict.get)(a)\n",
    "\n",
    "predictions_np_added = np.c_[first_column_id, predictions_np, np.vectorize(lambda x: 1 if x >= 0.5 else 0)(predictions_np) ]\n",
    "predictions_np_added\n",
    "print(predictions_np_added)\n",
    "#predictions_np_added.dtype.names = ['PassengerId', 'predictions', 'decisions']\n",
    "\n",
    "predictions_df = pd.DataFrame(data = predictions_np_added, columns = ['PassengerId', 'predictions', 'decisions'])\n",
    "#predictions_df.set_index('PassengerId', inplace=True)\n",
    "predictions_df.set_index('PassengerId', inplace=True)\n",
    "predictions_df.head()\n",
    "\n",
    "\n",
    "predictions_df.to_json(orient='values')\n",
    "\n",
    "#jsonStr = json.dumps(predictions_np_added)\n",
    "#jsonStr\n",
    "\n",
    "#np.vectorize(lambda x: 1 if x >= 0.5 else 0)(predictions_np)"
   ],
   "metadata": {
    "collapsed": false
   }
  },
  {
   "cell_type": "code",
   "execution_count": 32,
   "outputs": [
    {
     "data": {
      "text/plain": "numpy.ndarray"
     },
     "execution_count": 32,
     "metadata": {},
     "output_type": "execute_result"
    }
   ],
   "source": [
    "type(predictions_np_added)"
   ],
   "metadata": {
    "collapsed": false
   }
  },
  {
   "cell_type": "code",
   "execution_count": 12,
   "outputs": [
    {
     "data": {
      "text/plain": "['PassengerId', 'Sex', 'Pclass', 'Embarked', 'SibSp', 'Parch', 'Fare', 'Age']"
     },
     "execution_count": 12,
     "metadata": {},
     "output_type": "execute_result"
    }
   ],
   "source": [
    "\n",
    "DEFAULT_TARGET = 'Survived'\n",
    "DEFAULT_CATEGORICAL = ['Sex', 'Pclass', 'Embarked', 'SibSp', 'Parch']\n",
    "DEFAULT_NUMERICAL = ['Fare', 'Age']\n",
    "ID_COLUMN = 'PassengerId'\n",
    "\n",
    "\n",
    "DEFAULT_ALL_COLUMNS = [ID_COLUMN] + DEFAULT_CATEGORICAL + DEFAULT_NUMERICAL\n",
    "DEFAULT_TRAIN_ALL_COLUMNS = DEFAULT_CATEGORICAL + DEFAULT_NUMERICAL\n",
    "\n",
    "DEFAULT_ALL_COLUMNS"
   ],
   "metadata": {
    "collapsed": false
   }
  }
 ],
 "metadata": {
  "kernelspec": {
   "display_name": "Python 3",
   "language": "python",
   "name": "python3"
  },
  "language_info": {
   "codemirror_mode": {
    "name": "ipython",
    "version": 2
   },
   "file_extension": ".py",
   "mimetype": "text/x-python",
   "name": "python",
   "nbconvert_exporter": "python",
   "pygments_lexer": "ipython2",
   "version": "2.7.6"
  }
 },
 "nbformat": 4,
 "nbformat_minor": 0
}
