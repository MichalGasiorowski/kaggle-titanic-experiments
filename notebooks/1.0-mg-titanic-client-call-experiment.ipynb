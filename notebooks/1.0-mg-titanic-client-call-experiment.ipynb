{
 "cells": [
  {
   "cell_type": "code",
   "execution_count": 4,
   "metadata": {
    "collapsed": true
   },
   "outputs": [
    {
     "name": "stdout",
     "output_type": "stream",
     "text": [
      "Python 3.10.6\r\n"
     ]
    }
   ],
   "source": [
    "!python -V"
   ]
  },
  {
   "cell_type": "code",
   "execution_count": 5,
   "outputs": [],
   "source": [
    "import numpy as np\n",
    "import pandas as pd\n",
    "from src.data.read import load_file_from_s3\n",
    "from src.data.read import ID_COLUMN\n",
    "from src.models import predict"
   ],
   "metadata": {
    "collapsed": false
   }
  },
  {
   "cell_type": "code",
   "execution_count": 6,
   "outputs": [
    {
     "data": {
      "text/plain": "mlflow.pyfunc.loaded_model:\n  artifact_path: model\n  flavor: mlflow.xgboost\n  run_id: 21cf301e4e7f459bae86218626159897"
     },
     "execution_count": 6,
     "metadata": {},
     "output_type": "execute_result"
    }
   ],
   "source": [
    "predict.get_model()"
   ],
   "metadata": {
    "collapsed": false
   }
  },
  {
   "cell_type": "code",
   "execution_count": 7,
   "outputs": [],
   "source": [
    "from src.clients import remote_client\n",
    "\n",
    "predict_client = remote_client.PredictLambdaClient('http://localhost:9000')\n"
   ],
   "metadata": {
    "collapsed": false
   }
  },
  {
   "cell_type": "code",
   "execution_count": 8,
   "outputs": [
    {
     "data": {
      "text/plain": "'[{\"PassengerId\": -1, \"Prediction\": 0.8866254687309265, \"Survived\": 1}]'"
     },
     "execution_count": 8,
     "metadata": {},
     "output_type": "execute_result"
    }
   ],
   "source": [
    "passenger_X = {\"Age\": 23, \"Sex\": 'female', \"Pclass\": 2, \"Embarked\": 'C', \"SibSp\": 1, \"Parch\": 1, \"Fare\": 9}\n",
    "\n",
    "predict_client.lambda_predict(passenger_X)"
   ],
   "metadata": {
    "collapsed": false
   }
  },
  {
   "cell_type": "code",
   "execution_count": 9,
   "outputs": [
    {
     "data": {
      "text/plain": "'[{\"PassengerId\": 892, \"Prediction\": 0.17178867757320404, \"Survived\": 0}, {\"PassengerId\": 893, \"Prediction\": 0.4923032522201538, \"Survived\": 0}, {\"PassengerId\": 894, \"Prediction\": 0.1256335973739624, \"Survived\": 0}, {\"PassengerId\": 895, \"Prediction\": 0.1516686975955963, \"Survived\": 0}, {\"PassengerId\": 896, \"Prediction\": 0.4442468285560608, \"Survived\": 0}, {\"PassengerId\": 897, \"Prediction\": 0.1707412302494049, \"Survived\": 0}, {\"PassengerId\": 898, \"Prediction\": 0.7031752467155457, \"Survived\": 1}, {\"PassengerId\": 899, \"Prediction\": 0.2966756820678711, \"Survived\": 0}, {\"PassengerId\": 900, \"Prediction\": 0.6736209392547607, \"Survived\": 1}, {\"PassengerId\": 901, \"Prediction\": 0.10040461272001266, \"Survived\": 0}, {\"PassengerId\": 902, \"Prediction\": 0.1366390585899353, \"Survived\": 0}, {\"PassengerId\": 903, \"Prediction\": 0.25172755122184753, \"Survived\": 0}, {\"PassengerId\": 904, \"Prediction\": 0.9200294017791748, \"Survived\": 1}, {\"PassengerId\": 905, \"Prediction\": 0.1651614010334015, \"Survived\": 0}, {\"PassengerId\": 906, \"Prediction\": 0.9154147505760193, \"Survived\": 1}, {\"PassengerId\": 907, \"Prediction\": 0.8670912384986877, \"Survived\": 1}, {\"PassengerId\": 908, \"Prediction\": 0.1481286585330963, \"Survived\": 0}, {\"PassengerId\": 909, \"Prediction\": 0.25032660365104675, \"Survived\": 0}, {\"PassengerId\": 910, \"Prediction\": 0.466674268245697, \"Survived\": 0}, {\"PassengerId\": 911, \"Prediction\": 0.43338125944137573, \"Survived\": 0}, {\"PassengerId\": 912, \"Prediction\": 0.4532499611377716, \"Survived\": 0}, {\"PassengerId\": 913, \"Prediction\": 0.32713326811790466, \"Survived\": 0}, {\"PassengerId\": 914, \"Prediction\": 0.9225779175758362, \"Survived\": 1}, {\"PassengerId\": 915, \"Prediction\": 0.47976210713386536, \"Survived\": 0}, {\"PassengerId\": 916, \"Prediction\": 0.9381495714187622, \"Survived\": 1}, {\"PassengerId\": 917, \"Prediction\": 0.11812359094619751, \"Survived\": 0}, {\"PassengerId\": 918, \"Prediction\": 0.9453588724136353, \"Survived\": 1}, {\"PassengerId\": 919, \"Prediction\": 0.25032660365104675, \"Survived\": 0}, {\"PassengerId\": 920, \"Prediction\": 0.25172755122184753, \"Survived\": 0}, {\"PassengerId\": 921, \"Prediction\": 0.15671037137508392, \"Survived\": 0}, {\"PassengerId\": 922, \"Prediction\": 0.1651614010334015, \"Survived\": 0}, {\"PassengerId\": 923, \"Prediction\": 0.17495054006576538, \"Survived\": 0}, {\"PassengerId\": 924, \"Prediction\": 0.4568122625350952, \"Survived\": 0}, {\"PassengerId\": 925, \"Prediction\": 0.37165820598602295, \"Survived\": 0}, {\"PassengerId\": 926, \"Prediction\": 0.5038584470748901, \"Survived\": 1}, {\"PassengerId\": 927, \"Prediction\": 0.17883571982383728, \"Survived\": 0}, {\"PassengerId\": 928, \"Prediction\": 0.5101059675216675, \"Survived\": 1}, {\"PassengerId\": 929, \"Prediction\": 0.49120911955833435, \"Survived\": 0}, {\"PassengerId\": 930, \"Prediction\": 0.1516686975955963, \"Survived\": 0}, {\"PassengerId\": 931, \"Prediction\": 0.2559947073459625, \"Survived\": 0}, {\"PassengerId\": 932, \"Prediction\": 0.2723839282989502, \"Survived\": 0}, {\"PassengerId\": 933, \"Prediction\": 0.3062547743320465, \"Survived\": 0}, {\"PassengerId\": 934, \"Prediction\": 0.13395534455776215, \"Survived\": 0}, {\"PassengerId\": 935, \"Prediction\": 0.8946087956428528, \"Survived\": 1}, {\"PassengerId\": 936, \"Prediction\": 0.9154147505760193, \"Survived\": 1}, {\"PassengerId\": 937, \"Prediction\": 0.1516686975955963, \"Survived\": 0}, {\"PassengerId\": 938, \"Prediction\": 0.28924012184143066, \"Survived\": 0}, {\"PassengerId\": 939, \"Prediction\": 0.1409783661365509, \"Survived\": 0}, {\"PassengerId\": 940, \"Prediction\": 0.9412252306938171, \"Survived\": 1}, {\"PassengerId\": 941, \"Prediction\": 0.46814489364624023, \"Survived\": 0}, {\"PassengerId\": 942, \"Prediction\": 0.31398457288742065, \"Survived\": 0}, {\"PassengerId\": 943, \"Prediction\": 0.14692336320877075, \"Survived\": 0}, {\"PassengerId\": 944, \"Prediction\": 0.8920474052429199, \"Survived\": 1}, {\"PassengerId\": 945, \"Prediction\": 0.8684867024421692, \"Survived\": 1}, {\"PassengerId\": 946, \"Prediction\": 0.1553034484386444, \"Survived\": 0}, {\"PassengerId\": 947, \"Prediction\": 0.14049993455410004, \"Survived\": 0}, {\"PassengerId\": 948, \"Prediction\": 0.16635404527187347, \"Survived\": 0}, {\"PassengerId\": 949, \"Prediction\": 0.15323154628276825, \"Survived\": 0}, {\"PassengerId\": 950, \"Prediction\": 0.12053429335355759, \"Survived\": 0}, {\"PassengerId\": 951, \"Prediction\": 0.9567320942878723, \"Survived\": 1}, {\"PassengerId\": 952, \"Prediction\": 0.1707412302494049, \"Survived\": 0}, {\"PassengerId\": 953, \"Prediction\": 0.1754552721977234, \"Survived\": 0}, {\"PassengerId\": 954, \"Prediction\": 0.14276161789894104, \"Survived\": 0}, {\"PassengerId\": 955, \"Prediction\": 0.665762722492218, \"Survived\": 1}, {\"PassengerId\": 956, \"Prediction\": 0.8900961875915527, \"Survived\": 1}, {\"PassengerId\": 957, \"Prediction\": 0.8914026618003845, \"Survived\": 1}, {\"PassengerId\": 958, \"Prediction\": 0.772803008556366, \"Survived\": 1}, {\"PassengerId\": 959, \"Prediction\": 0.25172755122184753, \"Survived\": 0}, {\"PassengerId\": 960, \"Prediction\": 0.40488317608833313, \"Survived\": 0}, {\"PassengerId\": 961, \"Prediction\": 0.9225121736526489, \"Survived\": 1}, {\"PassengerId\": 962, \"Prediction\": 0.665762722492218, \"Survived\": 1}, {\"PassengerId\": 963, \"Prediction\": 0.12662455439567566, \"Survived\": 0}, {\"PassengerId\": 964, \"Prediction\": 0.5058851838111877, \"Survived\": 1}, {\"PassengerId\": 965, \"Prediction\": 0.4475119411945343, \"Survived\": 0}, {\"PassengerId\": 966, \"Prediction\": 0.9567320942878723, \"Survived\": 1}, {\"PassengerId\": 967, \"Prediction\": 0.5677680969238281, \"Survived\": 1}, {\"PassengerId\": 968, \"Prediction\": 0.1366390585899353, \"Survived\": 0}, {\"PassengerId\": 969, \"Prediction\": 0.8549739718437195, \"Survived\": 1}, {\"PassengerId\": 970, \"Prediction\": 0.1666208803653717, \"Survived\": 0}, {\"PassengerId\": 971, \"Prediction\": 0.665762722492218, \"Survived\": 1}, {\"PassengerId\": 972, \"Prediction\": 0.4238685965538025, \"Survived\": 0}, {\"PassengerId\": 973, \"Prediction\": 0.32047098875045776, \"Survived\": 0}, {\"PassengerId\": 974, \"Prediction\": 0.25172755122184753, \"Survived\": 0}, {\"PassengerId\": 975, \"Prediction\": 0.1366390585899353, \"Survived\": 0}, {\"PassengerId\": 976, \"Prediction\": 0.1604100614786148, \"Survived\": 0}, {\"PassengerId\": 977, \"Prediction\": 0.190947487950325, \"Survived\": 0}, {\"PassengerId\": 978, \"Prediction\": 0.7287787795066833, \"Survived\": 1}, {\"PassengerId\": 979, \"Prediction\": 0.5593988299369812, \"Survived\": 1}, {\"PassengerId\": 980, \"Prediction\": 0.7031752467155457, \"Survived\": 1}, {\"PassengerId\": 981, \"Prediction\": 0.7163975834846497, \"Survived\": 1}, {\"PassengerId\": 982, \"Prediction\": 0.4520949721336365, \"Survived\": 0}, {\"PassengerId\": 983, \"Prediction\": 0.1366390585899353, \"Survived\": 0}, {\"PassengerId\": 984, \"Prediction\": 0.7453213334083557, \"Survived\": 1}, {\"PassengerId\": 985, \"Prediction\": 0.1366390585899353, \"Survived\": 0}, {\"PassengerId\": 986, \"Prediction\": 0.4475119411945343, \"Survived\": 0}, {\"PassengerId\": 987, \"Prediction\": 0.1516686975955963, \"Survived\": 0}, {\"PassengerId\": 988, \"Prediction\": 0.9154147505760193, \"Survived\": 1}, {\"PassengerId\": 989, \"Prediction\": 0.1516686975955963, \"Survived\": 0}, {\"PassengerId\": 990, \"Prediction\": 0.49120911955833435, \"Survived\": 0}, {\"PassengerId\": 991, \"Prediction\": 0.16635404527187347, \"Survived\": 0}, {\"PassengerId\": 992, \"Prediction\": 0.9323794841766357, \"Survived\": 1}, {\"PassengerId\": 993, \"Prediction\": 0.17661936581134796, \"Survived\": 0}, {\"PassengerId\": 994, \"Prediction\": 0.1409783661365509, \"Survived\": 0}, {\"PassengerId\": 995, \"Prediction\": 0.1516686975955963, \"Survived\": 0}, {\"PassengerId\": 996, \"Prediction\": 0.5958153605461121, \"Survived\": 1}, {\"PassengerId\": 997, \"Prediction\": 0.1238793209195137, \"Survived\": 0}, {\"PassengerId\": 998, \"Prediction\": 0.17991240322589874, \"Survived\": 0}, {\"PassengerId\": 999, \"Prediction\": 0.1409783661365509, \"Survived\": 0}, {\"PassengerId\": 1000, \"Prediction\": 0.15789014101028442, \"Survived\": 0}, {\"PassengerId\": 1001, \"Prediction\": 0.1466412991285324, \"Survived\": 0}, {\"PassengerId\": 1002, \"Prediction\": 0.1387777477502823, \"Survived\": 0}, {\"PassengerId\": 1003, \"Prediction\": 0.6770435571670532, \"Survived\": 1}, {\"PassengerId\": 1004, \"Prediction\": 0.8907467126846313, \"Survived\": 1}, {\"PassengerId\": 1005, \"Prediction\": 0.7160300016403198, \"Survived\": 1}, {\"PassengerId\": 1006, \"Prediction\": 0.9154147505760193, \"Survived\": 1}, {\"PassengerId\": 1007, \"Prediction\": 0.21055778861045837, \"Survived\": 0}, {\"PassengerId\": 1008, \"Prediction\": 0.137069970369339, \"Survived\": 0}, {\"PassengerId\": 1009, \"Prediction\": 0.506104588508606, \"Survived\": 1}, {\"PassengerId\": 1010, \"Prediction\": 0.5677680969238281, \"Survived\": 1}, {\"PassengerId\": 1011, \"Prediction\": 0.8458106517791748, \"Survived\": 1}, {\"PassengerId\": 1012, \"Prediction\": 0.9105343222618103, \"Survived\": 1}, {\"PassengerId\": 1013, \"Prediction\": 0.13321757316589355, \"Survived\": 0}, {\"PassengerId\": 1014, \"Prediction\": 0.9500963687896729, \"Survived\": 1}, {\"PassengerId\": 1015, \"Prediction\": 0.15323154628276825, \"Survived\": 0}, {\"PassengerId\": 1016, \"Prediction\": 0.1409783661365509, \"Survived\": 0}, {\"PassengerId\": 1017, \"Prediction\": 0.6133027672767639, \"Survived\": 1}, {\"PassengerId\": 1018, \"Prediction\": 0.12662455439567566, \"Survived\": 0}, {\"PassengerId\": 1019, \"Prediction\": 0.7494683861732483, \"Survived\": 1}, {\"PassengerId\": 1020, \"Prediction\": 0.1495388150215149, \"Survived\": 0}, {\"PassengerId\": 1021, \"Prediction\": 0.12662455439567566, \"Survived\": 0}, {\"PassengerId\": 1022, \"Prediction\": 0.16635404527187347, \"Survived\": 0}, {\"PassengerId\": 1023, \"Prediction\": 0.28924012184143066, \"Survived\": 0}, {\"PassengerId\": 1024, \"Prediction\": 0.2823207676410675, \"Survived\": 0}, {\"PassengerId\": 1025, \"Prediction\": 0.13463753461837769, \"Survived\": 0}, {\"PassengerId\": 1026, \"Prediction\": 0.13395534455776215, \"Survived\": 0}, {\"PassengerId\": 1027, \"Prediction\": 0.12662455439567566, \"Survived\": 0}, {\"PassengerId\": 1028, \"Prediction\": 0.25683051347732544, \"Survived\": 0}, {\"PassengerId\": 1029, \"Prediction\": 0.16012082993984222, \"Survived\": 0}, {\"PassengerId\": 1030, \"Prediction\": 0.49120911955833435, \"Survived\": 0}, {\"PassengerId\": 1031, \"Prediction\": 0.14367105066776276, \"Survived\": 0}, {\"PassengerId\": 1032, \"Prediction\": 0.21417558193206787, \"Survived\": 0}, {\"PassengerId\": 1033, \"Prediction\": 0.9446313381195068, \"Survived\": 1}, {\"PassengerId\": 1034, \"Prediction\": 0.3745664656162262, \"Survived\": 0}, {\"PassengerId\": 1035, \"Prediction\": 0.17661936581134796, \"Survived\": 0}, {\"PassengerId\": 1036, \"Prediction\": 0.25172755122184753, \"Survived\": 0}, {\"PassengerId\": 1037, \"Prediction\": 0.13316170871257782, \"Survived\": 0}, {\"PassengerId\": 1038, \"Prediction\": 0.3062547743320465, \"Survived\": 0}, {\"PassengerId\": 1039, \"Prediction\": 0.12662455439567566, \"Survived\": 0}, {\"PassengerId\": 1040, \"Prediction\": 0.3062547743320465, \"Survived\": 0}, {\"PassengerId\": 1041, \"Prediction\": 0.24363207817077637, \"Survived\": 0}, {\"PassengerId\": 1042, \"Prediction\": 0.9453588724136353, \"Survived\": 1}, {\"PassengerId\": 1043, \"Prediction\": 0.1758844256401062, \"Survived\": 0}, {\"PassengerId\": 1044, \"Prediction\": 0.13804034888744354, \"Survived\": 0}, {\"PassengerId\": 1045, \"Prediction\": 0.4959651529788971, \"Survived\": 0}, {\"PassengerId\": 1046, \"Prediction\": 0.2309662103652954, \"Survived\": 0}, {\"PassengerId\": 1047, \"Prediction\": 0.10858917981386185, \"Survived\": 0}, {\"PassengerId\": 1048, \"Prediction\": 0.938770592212677, \"Survived\": 1}, {\"PassengerId\": 1049, \"Prediction\": 0.49120911955833435, \"Survived\": 0}, {\"PassengerId\": 1050, \"Prediction\": 0.25172755122184753, \"Survived\": 0}, {\"PassengerId\": 1051, \"Prediction\": 0.4959651529788971, \"Survived\": 0}, {\"PassengerId\": 1052, \"Prediction\": 0.7031752467155457, \"Survived\": 1}, {\"PassengerId\": 1053, \"Prediction\": 0.4238685965538025, \"Survived\": 0}, {\"PassengerId\": 1054, \"Prediction\": 0.873091459274292, \"Survived\": 1}, {\"PassengerId\": 1055, \"Prediction\": 0.11348308622837067, \"Survived\": 0}, {\"PassengerId\": 1056, \"Prediction\": 0.1495388150215149, \"Survived\": 0}, {\"PassengerId\": 1057, \"Prediction\": 0.45878493785858154, \"Survived\": 0}, {\"PassengerId\": 1058, \"Prediction\": 0.28924012184143066, \"Survived\": 0}, {\"PassengerId\": 1059, \"Prediction\": 0.31828728318214417, \"Survived\": 0}, {\"PassengerId\": 1060, \"Prediction\": 0.9000275731086731, \"Survived\": 1}, {\"PassengerId\": 1061, \"Prediction\": 0.49120911955833435, \"Survived\": 0}, {\"PassengerId\": 1062, \"Prediction\": 0.11348308622837067, \"Survived\": 0}, {\"PassengerId\": 1063, \"Prediction\": 0.25683051347732544, \"Survived\": 0}, {\"PassengerId\": 1064, \"Prediction\": 0.12435077875852585, \"Survived\": 0}, {\"PassengerId\": 1065, \"Prediction\": 0.137069970369339, \"Survived\": 0}, {\"PassengerId\": 1066, \"Prediction\": 0.14367105066776276, \"Survived\": 0}, {\"PassengerId\": 1067, \"Prediction\": 0.9206615686416626, \"Survived\": 1}, {\"PassengerId\": 1068, \"Prediction\": 0.9102099537849426, \"Survived\": 1}, {\"PassengerId\": 1069, \"Prediction\": 0.4532499611377716, \"Survived\": 0}, {\"PassengerId\": 1070, \"Prediction\": 0.8983730673789978, \"Survived\": 1}, {\"PassengerId\": 1071, \"Prediction\": 0.9478978514671326, \"Survived\": 1}, {\"PassengerId\": 1072, \"Prediction\": 0.1666208803653717, \"Survived\": 0}, {\"PassengerId\": 1073, \"Prediction\": 0.6155399680137634, \"Survived\": 1}, {\"PassengerId\": 1074, \"Prediction\": 0.9024111032485962, \"Survived\": 1}, {\"PassengerId\": 1075, \"Prediction\": 0.1409783661365509, \"Survived\": 0}, {\"PassengerId\": 1076, \"Prediction\": 0.9462044835090637, \"Survived\": 1}, {\"PassengerId\": 1077, \"Prediction\": 0.13193313777446747, \"Survived\": 0}, {\"PassengerId\": 1078, \"Prediction\": 0.9012366533279419, \"Survived\": 1}, {\"PassengerId\": 1079, \"Prediction\": 0.12874531745910645, \"Survived\": 0}, {\"PassengerId\": 1080, \"Prediction\": 0.13943515717983246, \"Survived\": 0}, {\"PassengerId\": 1081, \"Prediction\": 0.1754552721977234, \"Survived\": 0}, {\"PassengerId\": 1082, \"Prediction\": 0.193170428276062, \"Survived\": 0}, {\"PassengerId\": 1083, \"Prediction\": 0.3062547743320465, \"Survived\": 0}, {\"PassengerId\": 1084, \"Prediction\": 0.3699246942996979, \"Survived\": 0}, {\"PassengerId\": 1085, \"Prediction\": 0.1256335973739624, \"Survived\": 0}, {\"PassengerId\": 1086, \"Prediction\": 0.6426839232444763, \"Survived\": 1}, {\"PassengerId\": 1087, \"Prediction\": 0.16635404527187347, \"Survived\": 0}, {\"PassengerId\": 1088, \"Prediction\": 0.8247209787368774, \"Survived\": 1}, {\"PassengerId\": 1089, \"Prediction\": 0.5593988299369812, \"Survived\": 1}, {\"PassengerId\": 1090, \"Prediction\": 0.1250074952840805, \"Survived\": 0}, {\"PassengerId\": 1091, \"Prediction\": 0.5101059675216675, \"Survived\": 1}, {\"PassengerId\": 1092, \"Prediction\": 0.6153099536895752, \"Survived\": 1}, {\"PassengerId\": 1093, \"Prediction\": 0.49818143248558044, \"Survived\": 0}, {\"PassengerId\": 1094, \"Prediction\": 0.4532499611377716, \"Survived\": 0}, {\"PassengerId\": 1095, \"Prediction\": 0.9065744876861572, \"Survived\": 1}, {\"PassengerId\": 1096, \"Prediction\": 0.16012082993984222, \"Survived\": 0}, {\"PassengerId\": 1097, \"Prediction\": 0.21172800660133362, \"Survived\": 0}, {\"PassengerId\": 1098, \"Prediction\": 0.5920098423957825, \"Survived\": 1}, {\"PassengerId\": 1099, \"Prediction\": 0.1250074952840805, \"Survived\": 0}, {\"PassengerId\": 1100, \"Prediction\": 0.8907467126846313, \"Survived\": 1}, {\"PassengerId\": 1101, \"Prediction\": 0.1516686975955963, \"Survived\": 0}, {\"PassengerId\": 1102, \"Prediction\": 0.1363062560558319, \"Survived\": 0}, {\"PassengerId\": 1103, \"Prediction\": 0.11348308622837067, \"Survived\": 0}, {\"PassengerId\": 1104, \"Prediction\": 0.17128628492355347, \"Survived\": 0}, {\"PassengerId\": 1105, \"Prediction\": 0.7888094782829285, \"Survived\": 1}, {\"PassengerId\": 1106, \"Prediction\": 0.36144089698791504, \"Survived\": 0}, {\"PassengerId\": 1107, \"Prediction\": 0.25172755122184753, \"Survived\": 0}, {\"PassengerId\": 1108, \"Prediction\": 0.6770435571670532, \"Survived\": 1}, {\"PassengerId\": 1109, \"Prediction\": 0.2709628641605377, \"Survived\": 0}, {\"PassengerId\": 1110, \"Prediction\": 0.9420430660247803, \"Survived\": 1}, {\"PassengerId\": 1111, \"Prediction\": 0.1366390585899353, \"Survived\": 0}, {\"PassengerId\": 1112, \"Prediction\": 0.8849216103553772, \"Survived\": 1}, {\"PassengerId\": 1113, \"Prediction\": 0.12662455439567566, \"Survived\": 0}, {\"PassengerId\": 1114, \"Prediction\": 0.8674412369728088, \"Survived\": 1}, {\"PassengerId\": 1115, \"Prediction\": 0.12662455439567566, \"Survived\": 0}, {\"PassengerId\": 1116, \"Prediction\": 0.8584510087966919, \"Survived\": 1}, {\"PassengerId\": 1117, \"Prediction\": 0.5332556366920471, \"Survived\": 1}, {\"PassengerId\": 1118, \"Prediction\": 0.12662455439567566, \"Survived\": 0}, {\"PassengerId\": 1119, \"Prediction\": 0.7031752467155457, \"Survived\": 1}, {\"PassengerId\": 1120, \"Prediction\": 0.1363062560558319, \"Survived\": 0}, {\"PassengerId\": 1121, \"Prediction\": 0.1754552721977234, \"Survived\": 0}, {\"PassengerId\": 1122, \"Prediction\": 0.17128628492355347, \"Survived\": 0}, {\"PassengerId\": 1123, \"Prediction\": 0.9422446489334106, \"Survived\": 1}, {\"PassengerId\": 1124, \"Prediction\": 0.10659971833229065, \"Survived\": 0}, {\"PassengerId\": 1125, \"Prediction\": 0.1476559042930603, \"Survived\": 0}, {\"PassengerId\": 1126, \"Prediction\": 0.597266674041748, \"Survived\": 1}, {\"PassengerId\": 1127, \"Prediction\": 0.12662455439567566, \"Survived\": 0}, {\"PassengerId\": 1128, \"Prediction\": 0.4532499611377716, \"Survived\": 0}, {\"PassengerId\": 1129, \"Prediction\": 0.25032660365104675, \"Survived\": 0}, {\"PassengerId\": 1130, \"Prediction\": 0.90797358751297, \"Survived\": 1}, {\"PassengerId\": 1131, \"Prediction\": 0.9323794841766357, \"Survived\": 1}, {\"PassengerId\": 1132, \"Prediction\": 0.8584510087966919, \"Survived\": 1}, {\"PassengerId\": 1133, \"Prediction\": 0.8800941109657288, \"Survived\": 1}, {\"PassengerId\": 1134, \"Prediction\": 0.39515775442123413, \"Survived\": 0}, {\"PassengerId\": 1135, \"Prediction\": 0.1366390585899353, \"Survived\": 0}, {\"PassengerId\": 1136, \"Prediction\": 0.1289694607257843, \"Survived\": 0}, {\"PassengerId\": 1137, \"Prediction\": 0.2780139148235321, \"Survived\": 0}, {\"PassengerId\": 1138, \"Prediction\": 0.8823051452636719, \"Survived\": 1}, {\"PassengerId\": 1139, \"Prediction\": 0.2800785005092621, \"Survived\": 0}, {\"PassengerId\": 1140, \"Prediction\": 0.8458106517791748, \"Survived\": 1}, {\"PassengerId\": 1141, \"Prediction\": 0.5335747599601746, \"Survived\": 1}, {\"PassengerId\": 1142, \"Prediction\": 0.8789862394332886, \"Survived\": 1}, {\"PassengerId\": 1143, \"Prediction\": 0.12662455439567566, \"Survived\": 0}, {\"PassengerId\": 1144, \"Prediction\": 0.5611435770988464, \"Survived\": 1}, {\"PassengerId\": 1145, \"Prediction\": 0.12662455439567566, \"Survived\": 0}, {\"PassengerId\": 1146, \"Prediction\": 0.16635404527187347, \"Survived\": 0}, {\"PassengerId\": 1147, \"Prediction\": 0.11348308622837067, \"Survived\": 0}, {\"PassengerId\": 1148, \"Prediction\": 0.1409783661365509, \"Survived\": 0}, {\"PassengerId\": 1149, \"Prediction\": 0.1516686975955963, \"Survived\": 0}, {\"PassengerId\": 1150, \"Prediction\": 0.8674412369728088, \"Survived\": 1}, {\"PassengerId\": 1151, \"Prediction\": 0.12662455439567566, \"Survived\": 0}, {\"PassengerId\": 1152, \"Prediction\": 0.1473446786403656, \"Survived\": 0}, {\"PassengerId\": 1153, \"Prediction\": 0.12662455439567566, \"Survived\": 0}, {\"PassengerId\": 1154, \"Prediction\": 0.7861168384552002, \"Survived\": 1}, {\"PassengerId\": 1155, \"Prediction\": 0.506104588508606, \"Survived\": 1}, {\"PassengerId\": 1156, \"Prediction\": 0.19895769655704498, \"Survived\": 0}, {\"PassengerId\": 1157, \"Prediction\": 0.1366390585899353, \"Survived\": 0}, {\"PassengerId\": 1158, \"Prediction\": 0.15913313627243042, \"Survived\": 0}, {\"PassengerId\": 1159, \"Prediction\": 0.11348308622837067, \"Survived\": 0}, {\"PassengerId\": 1160, \"Prediction\": 0.5101059675216675, \"Survived\": 1}, {\"PassengerId\": 1161, \"Prediction\": 0.1707412302494049, \"Survived\": 0}, {\"PassengerId\": 1162, \"Prediction\": 0.3907950520515442, \"Survived\": 0}, {\"PassengerId\": 1163, \"Prediction\": 0.1409783661365509, \"Survived\": 0}, {\"PassengerId\": 1164, \"Prediction\": 0.9483286738395691, \"Survived\": 1}, {\"PassengerId\": 1165, \"Prediction\": 0.593680739402771, \"Survived\": 1}, {\"PassengerId\": 1166, \"Prediction\": 0.137069970369339, \"Survived\": 0}, {\"PassengerId\": 1167, \"Prediction\": 0.8638561964035034, \"Survived\": 1}, {\"PassengerId\": 1168, \"Prediction\": 0.16012082993984222, \"Survived\": 0}, {\"PassengerId\": 1169, \"Prediction\": 0.193170428276062, \"Survived\": 0}, {\"PassengerId\": 1170, \"Prediction\": 0.10757321864366531, \"Survived\": 0}, {\"PassengerId\": 1171, \"Prediction\": 0.1250074952840805, \"Survived\": 0}, {\"PassengerId\": 1172, \"Prediction\": 0.49120911955833435, \"Survived\": 0}, {\"PassengerId\": 1173, \"Prediction\": 0.39744773507118225, \"Survived\": 0}, {\"PassengerId\": 1174, \"Prediction\": 0.7031752467155457, \"Survived\": 1}, {\"PassengerId\": 1175, \"Prediction\": 0.5958153605461121, \"Survived\": 1}, {\"PassengerId\": 1176, \"Prediction\": 0.506104588508606, \"Survived\": 1}, {\"PassengerId\": 1177, \"Prediction\": 0.126338392496109, \"Survived\": 0}, {\"PassengerId\": 1178, \"Prediction\": 0.11348308622837067, \"Survived\": 0}, {\"PassengerId\": 1179, \"Prediction\": 0.31398457288742065, \"Survived\": 0}, {\"PassengerId\": 1180, \"Prediction\": 0.137069970369339, \"Survived\": 0}, {\"PassengerId\": 1181, \"Prediction\": 0.1366390585899353, \"Survived\": 0}, {\"PassengerId\": 1182, \"Prediction\": 0.3062547743320465, \"Survived\": 0}, {\"PassengerId\": 1183, \"Prediction\": 0.7031752467155457, \"Survived\": 1}, {\"PassengerId\": 1184, \"Prediction\": 0.137069970369339, \"Survived\": 0}, {\"PassengerId\": 1185, \"Prediction\": 0.2709628641605377, \"Survived\": 0}, {\"PassengerId\": 1186, \"Prediction\": 0.16635404527187347, \"Survived\": 0}, {\"PassengerId\": 1187, \"Prediction\": 0.1516686975955963, \"Survived\": 0}, {\"PassengerId\": 1188, \"Prediction\": 0.8756582140922546, \"Survived\": 1}, {\"PassengerId\": 1189, \"Prediction\": 0.15671037137508392, \"Survived\": 0}, {\"PassengerId\": 1190, \"Prediction\": 0.3062547743320465, \"Survived\": 0}, {\"PassengerId\": 1191, \"Prediction\": 0.1516686975955963, \"Survived\": 0}, {\"PassengerId\": 1192, \"Prediction\": 0.16635404527187347, \"Survived\": 0}, {\"PassengerId\": 1193, \"Prediction\": 0.1553034484386444, \"Survived\": 0}, {\"PassengerId\": 1194, \"Prediction\": 0.19301532208919525, \"Survived\": 0}, {\"PassengerId\": 1195, \"Prediction\": 0.12662455439567566, \"Survived\": 0}, {\"PassengerId\": 1196, \"Prediction\": 0.7031752467155457, \"Survived\": 1}, {\"PassengerId\": 1197, \"Prediction\": 0.8573416471481323, \"Survived\": 1}, {\"PassengerId\": 1198, \"Prediction\": 0.31795254349708557, \"Survived\": 0}, {\"PassengerId\": 1199, \"Prediction\": 0.48539745807647705, \"Survived\": 0}, {\"PassengerId\": 1200, \"Prediction\": 0.2709628641605377, \"Survived\": 0}, {\"PassengerId\": 1201, \"Prediction\": 0.3976024389266968, \"Survived\": 0}, {\"PassengerId\": 1202, \"Prediction\": 0.1707412302494049, \"Survived\": 0}, {\"PassengerId\": 1203, \"Prediction\": 0.25032660365104675, \"Survived\": 0}, {\"PassengerId\": 1204, \"Prediction\": 0.11348308622837067, \"Survived\": 0}, {\"PassengerId\": 1205, \"Prediction\": 0.5920098423957825, \"Survived\": 1}, {\"PassengerId\": 1206, \"Prediction\": 0.9412252306938171, \"Survived\": 1}, {\"PassengerId\": 1207, \"Prediction\": 0.7160300016403198, \"Survived\": 1}, {\"PassengerId\": 1208, \"Prediction\": 0.4532499611377716, \"Survived\": 0}, {\"PassengerId\": 1209, \"Prediction\": 0.1250074952840805, \"Survived\": 0}, {\"PassengerId\": 1210, \"Prediction\": 0.1516686975955963, \"Survived\": 0}, {\"PassengerId\": 1211, \"Prediction\": 0.17495054006576538, \"Survived\": 0}, {\"PassengerId\": 1212, \"Prediction\": 0.1516686975955963, \"Survived\": 0}, {\"PassengerId\": 1213, \"Prediction\": 0.25683051347732544, \"Survived\": 0}, {\"PassengerId\": 1214, \"Prediction\": 0.16012082993984222, \"Survived\": 0}, {\"PassengerId\": 1215, \"Prediction\": 0.385653555393219, \"Survived\": 0}, {\"PassengerId\": 1216, \"Prediction\": 0.9446313381195068, \"Survived\": 1}, {\"PassengerId\": 1217, \"Prediction\": 0.10858917981386185, \"Survived\": 0}, {\"PassengerId\": 1218, \"Prediction\": 0.9335036873817444, \"Survived\": 1}, {\"PassengerId\": 1219, \"Prediction\": 0.3907950520515442, \"Survived\": 0}, {\"PassengerId\": 1220, \"Prediction\": 0.17661936581134796, \"Survived\": 0}, {\"PassengerId\": 1221, \"Prediction\": 0.1250074952840805, \"Survived\": 0}, {\"PassengerId\": 1222, \"Prediction\": 0.8800941109657288, \"Survived\": 1}, {\"PassengerId\": 1223, \"Prediction\": 0.40488317608833313, \"Survived\": 0}, {\"PassengerId\": 1224, \"Prediction\": 0.137069970369339, \"Survived\": 0}, {\"PassengerId\": 1225, \"Prediction\": 0.54433673620224, \"Survived\": 1}, {\"PassengerId\": 1226, \"Prediction\": 0.1516686975955963, \"Survived\": 0}, {\"PassengerId\": 1227, \"Prediction\": 0.3062547743320465, \"Survived\": 0}, {\"PassengerId\": 1228, \"Prediction\": 0.1754552721977234, \"Survived\": 0}, {\"PassengerId\": 1229, \"Prediction\": 0.10068511962890625, \"Survived\": 0}, {\"PassengerId\": 1230, \"Prediction\": 0.17661936581134796, \"Survived\": 0}, {\"PassengerId\": 1231, \"Prediction\": 0.137069970369339, \"Survived\": 0}, {\"PassengerId\": 1232, \"Prediction\": 0.1466412991285324, \"Survived\": 0}, {\"PassengerId\": 1233, \"Prediction\": 0.126338392496109, \"Survived\": 0}, {\"PassengerId\": 1234, \"Prediction\": 0.17474374175071716, \"Survived\": 0}, {\"PassengerId\": 1235, \"Prediction\": 0.9496929049491882, \"Survived\": 1}, {\"PassengerId\": 1236, \"Prediction\": 0.1832772195339203, \"Survived\": 0}, {\"PassengerId\": 1237, \"Prediction\": 0.6509909629821777, \"Survived\": 1}, {\"PassengerId\": 1238, \"Prediction\": 0.16012082993984222, \"Survived\": 0}, {\"PassengerId\": 1239, \"Prediction\": 0.619832456111908, \"Survived\": 1}, {\"PassengerId\": 1240, \"Prediction\": 0.1250074952840805, \"Survived\": 0}, {\"PassengerId\": 1241, \"Prediction\": 0.8882660865783691, \"Survived\": 1}, {\"PassengerId\": 1242, \"Prediction\": 0.9496929049491882, \"Survived\": 1}, {\"PassengerId\": 1243, \"Prediction\": 0.16012082993984222, \"Survived\": 0}, {\"PassengerId\": 1244, \"Prediction\": 0.17128628492355347, \"Survived\": 0}, {\"PassengerId\": 1245, \"Prediction\": 0.1813971996307373, \"Survived\": 0}, {\"PassengerId\": 1246, \"Prediction\": 0.5041179656982422, \"Survived\": 1}, {\"PassengerId\": 1247, \"Prediction\": 0.25172755122184753, \"Survived\": 0}, {\"PassengerId\": 1248, \"Prediction\": 0.8956683874130249, \"Survived\": 1}, {\"PassengerId\": 1249, \"Prediction\": 0.1366390585899353, \"Survived\": 0}, {\"PassengerId\": 1250, \"Prediction\": 0.1409783661365509, \"Survived\": 0}, {\"PassengerId\": 1251, \"Prediction\": 0.4315108060836792, \"Survived\": 0}, {\"PassengerId\": 1252, \"Prediction\": 0.260770708322525, \"Survived\": 0}, {\"PassengerId\": 1253, \"Prediction\": 0.8881596922874451, \"Survived\": 1}, {\"PassengerId\": 1254, \"Prediction\": 0.8882660865783691, \"Survived\": 1}, {\"PassengerId\": 1255, \"Prediction\": 0.1516686975955963, \"Survived\": 0}, {\"PassengerId\": 1256, \"Prediction\": 0.9483286738395691, \"Survived\": 1}, {\"PassengerId\": 1257, \"Prediction\": 0.2556396424770355, \"Survived\": 0}, {\"PassengerId\": 1258, \"Prediction\": 0.190947487950325, \"Survived\": 0}, {\"PassengerId\": 1259, \"Prediction\": 0.4706231951713562, \"Survived\": 0}, {\"PassengerId\": 1260, \"Prediction\": 0.9496929049491882, \"Survived\": 1}, {\"PassengerId\": 1261, \"Prediction\": 0.1757252812385559, \"Survived\": 0}, {\"PassengerId\": 1262, \"Prediction\": 0.1250074952840805, \"Survived\": 0}, {\"PassengerId\": 1263, \"Prediction\": 0.9567320942878723, \"Survived\": 1}, {\"PassengerId\": 1264, \"Prediction\": 0.12604118883609772, \"Survived\": 0}, {\"PassengerId\": 1265, \"Prediction\": 0.1495388150215149, \"Survived\": 0}, {\"PassengerId\": 1266, \"Prediction\": 0.9273137450218201, \"Survived\": 1}, {\"PassengerId\": 1267, \"Prediction\": 0.9412252306938171, \"Survived\": 1}, {\"PassengerId\": 1268, \"Prediction\": 0.4231349527835846, \"Survived\": 0}, {\"PassengerId\": 1269, \"Prediction\": 0.1250074952840805, \"Survived\": 0}, {\"PassengerId\": 1270, \"Prediction\": 0.25172755122184753, \"Survived\": 0}, {\"PassengerId\": 1271, \"Prediction\": 0.2309662103652954, \"Survived\": 0}, {\"PassengerId\": 1272, \"Prediction\": 0.1409783661365509, \"Survived\": 0}, {\"PassengerId\": 1273, \"Prediction\": 0.203253373503685, \"Survived\": 0}, {\"PassengerId\": 1274, \"Prediction\": 0.4427274167537689, \"Survived\": 0}, {\"PassengerId\": 1275, \"Prediction\": 0.41307055950164795, \"Survived\": 0}, {\"PassengerId\": 1276, \"Prediction\": 0.1666208803653717, \"Survived\": 0}, {\"PassengerId\": 1277, \"Prediction\": 0.8408671021461487, \"Survived\": 1}, {\"PassengerId\": 1278, \"Prediction\": 0.12662455439567566, \"Survived\": 0}, {\"PassengerId\": 1279, \"Prediction\": 0.1495388150215149, \"Survived\": 0}, {\"PassengerId\": 1280, \"Prediction\": 0.12405690550804138, \"Survived\": 0}, {\"PassengerId\": 1281, \"Prediction\": 0.31847283244132996, \"Survived\": 0}, {\"PassengerId\": 1282, \"Prediction\": 0.31398457288742065, \"Survived\": 0}, {\"PassengerId\": 1283, \"Prediction\": 0.8839653730392456, \"Survived\": 1}, {\"PassengerId\": 1284, \"Prediction\": 0.46911361813545227, \"Survived\": 0}, {\"PassengerId\": 1285, \"Prediction\": 0.1495388150215149, \"Survived\": 0}, {\"PassengerId\": 1286, \"Prediction\": 0.18956048786640167, \"Survived\": 0}, {\"PassengerId\": 1287, \"Prediction\": 0.9024111032485962, \"Survived\": 1}, {\"PassengerId\": 1288, \"Prediction\": 0.12405690550804138, \"Survived\": 0}, {\"PassengerId\": 1289, \"Prediction\": 0.9420430660247803, \"Survived\": 1}, {\"PassengerId\": 1290, \"Prediction\": 0.12662455439567566, \"Survived\": 0}, {\"PassengerId\": 1291, \"Prediction\": 0.10353338718414307, \"Survived\": 0}, {\"PassengerId\": 1292, \"Prediction\": 0.9513578414916992, \"Survived\": 1}, {\"PassengerId\": 1293, \"Prediction\": 0.13193313777446747, \"Survived\": 0}, {\"PassengerId\": 1294, \"Prediction\": 0.9453588724136353, \"Survived\": 1}, {\"PassengerId\": 1295, \"Prediction\": 0.3247534930706024, \"Survived\": 0}, {\"PassengerId\": 1296, \"Prediction\": 0.3446468710899353, \"Survived\": 0}, {\"PassengerId\": 1297, \"Prediction\": 0.19057482481002808, \"Survived\": 0}, {\"PassengerId\": 1298, \"Prediction\": 0.1250074952840805, \"Survived\": 0}, {\"PassengerId\": 1299, \"Prediction\": 0.39515775442123413, \"Survived\": 0}, {\"PassengerId\": 1300, \"Prediction\": 0.7031752467155457, \"Survived\": 1}, {\"PassengerId\": 1301, \"Prediction\": 0.506104588508606, \"Survived\": 1}, {\"PassengerId\": 1302, \"Prediction\": 0.7031752467155457, \"Survived\": 1}, {\"PassengerId\": 1303, \"Prediction\": 0.9367780089378357, \"Survived\": 1}, {\"PassengerId\": 1304, \"Prediction\": 0.5058851838111877, \"Survived\": 1}, {\"PassengerId\": 1305, \"Prediction\": 0.1366390585899353, \"Survived\": 0}, {\"PassengerId\": 1306, \"Prediction\": 0.9567320942878723, \"Survived\": 1}, {\"PassengerId\": 1307, \"Prediction\": 0.126338392496109, \"Survived\": 0}, {\"PassengerId\": 1308, \"Prediction\": 0.1366390585899353, \"Survived\": 0}, {\"PassengerId\": 1309, \"Prediction\": 0.47192907333374023, \"Survived\": 0}]'"
     },
     "execution_count": 9,
     "metadata": {},
     "output_type": "execute_result"
    }
   ],
   "source": [
    "lambda_json_s3_path = \"s3://mlflow-enkidupal-experiments/data/external/test/test.csv\"\n",
    "\n",
    "response = predict_client.predict_s3path(lambda_json_s3_path)\n",
    "response\n"
   ],
   "metadata": {
    "collapsed": false
   }
  },
  {
   "cell_type": "code",
   "execution_count": 9,
   "outputs": [
    {
     "data": {
      "text/plain": "     PassengerId  predictions  decisions\n0            892     0.171789          0\n1            893     0.492303          0\n2            894     0.125634          0\n3            895     0.151669          0\n4            896     0.444247          0\n..           ...          ...        ...\n413         1305     0.136639          0\n414         1306     0.956732          1\n415         1307     0.126338          0\n416         1308     0.136639          0\n417         1309     0.471929          0\n\n[418 rows x 3 columns]",
      "text/html": "<div>\n<style scoped>\n    .dataframe tbody tr th:only-of-type {\n        vertical-align: middle;\n    }\n\n    .dataframe tbody tr th {\n        vertical-align: top;\n    }\n\n    .dataframe thead th {\n        text-align: right;\n    }\n</style>\n<table border=\"1\" class=\"dataframe\">\n  <thead>\n    <tr style=\"text-align: right;\">\n      <th></th>\n      <th>PassengerId</th>\n      <th>predictions</th>\n      <th>decisions</th>\n    </tr>\n  </thead>\n  <tbody>\n    <tr>\n      <th>0</th>\n      <td>892</td>\n      <td>0.171789</td>\n      <td>0</td>\n    </tr>\n    <tr>\n      <th>1</th>\n      <td>893</td>\n      <td>0.492303</td>\n      <td>0</td>\n    </tr>\n    <tr>\n      <th>2</th>\n      <td>894</td>\n      <td>0.125634</td>\n      <td>0</td>\n    </tr>\n    <tr>\n      <th>3</th>\n      <td>895</td>\n      <td>0.151669</td>\n      <td>0</td>\n    </tr>\n    <tr>\n      <th>4</th>\n      <td>896</td>\n      <td>0.444247</td>\n      <td>0</td>\n    </tr>\n    <tr>\n      <th>...</th>\n      <td>...</td>\n      <td>...</td>\n      <td>...</td>\n    </tr>\n    <tr>\n      <th>413</th>\n      <td>1305</td>\n      <td>0.136639</td>\n      <td>0</td>\n    </tr>\n    <tr>\n      <th>414</th>\n      <td>1306</td>\n      <td>0.956732</td>\n      <td>1</td>\n    </tr>\n    <tr>\n      <th>415</th>\n      <td>1307</td>\n      <td>0.126338</td>\n      <td>0</td>\n    </tr>\n    <tr>\n      <th>416</th>\n      <td>1308</td>\n      <td>0.136639</td>\n      <td>0</td>\n    </tr>\n    <tr>\n      <th>417</th>\n      <td>1309</td>\n      <td>0.471929</td>\n      <td>0</td>\n    </tr>\n  </tbody>\n</table>\n<p>418 rows × 3 columns</p>\n</div>"
     },
     "execution_count": 9,
     "metadata": {},
     "output_type": "execute_result"
    }
   ],
   "source": [
    "df2 = pd.read_json(response)\n",
    "df2"
   ],
   "metadata": {
    "collapsed": false
   }
  },
  {
   "cell_type": "code",
   "execution_count": 8,
   "outputs": [
    {
     "data": {
      "text/plain": "   Age     Sex  Pclass Embarked  SibSp  Parch  Fare\n0   23  female       2        C      1      1     9",
      "text/html": "<div>\n<style scoped>\n    .dataframe tbody tr th:only-of-type {\n        vertical-align: middle;\n    }\n\n    .dataframe tbody tr th {\n        vertical-align: top;\n    }\n\n    .dataframe thead th {\n        text-align: right;\n    }\n</style>\n<table border=\"1\" class=\"dataframe\">\n  <thead>\n    <tr style=\"text-align: right;\">\n      <th></th>\n      <th>Age</th>\n      <th>Sex</th>\n      <th>Pclass</th>\n      <th>Embarked</th>\n      <th>SibSp</th>\n      <th>Parch</th>\n      <th>Fare</th>\n    </tr>\n  </thead>\n  <tbody>\n    <tr>\n      <th>0</th>\n      <td>23</td>\n      <td>female</td>\n      <td>2</td>\n      <td>C</td>\n      <td>1</td>\n      <td>1</td>\n      <td>9</td>\n    </tr>\n  </tbody>\n</table>\n</div>"
     },
     "execution_count": 8,
     "metadata": {},
     "output_type": "execute_result"
    }
   ],
   "source": [
    "passenger_X = {\"Age\": 23, \"Sex\": 'female', \"Pclass\": 2, \"Embarked\": 'C', \"SibSp\": 1, \"Parch\": 1, \"Fare\": 9}\n",
    "\n",
    "test_df = predict.create_features(passenger_X)\n",
    "\n",
    "test_df\n"
   ],
   "metadata": {
    "collapsed": false
   }
  },
  {
   "cell_type": "code",
   "execution_count": 12,
   "outputs": [
    {
     "data": {
      "text/plain": "['PassengerId', 'Sex', 'Pclass', 'Embarked', 'SibSp', 'Parch', 'Fare', 'Age']"
     },
     "execution_count": 12,
     "metadata": {},
     "output_type": "execute_result"
    }
   ],
   "source": [
    "\n",
    "DEFAULT_TARGET = 'Survived'\n",
    "DEFAULT_CATEGORICAL = ['Sex', 'Pclass', 'Embarked', 'SibSp', 'Parch']\n",
    "DEFAULT_NUMERICAL = ['Fare', 'Age']\n",
    "ID_COLUMN = 'PassengerId'\n",
    "\n",
    "\n",
    "DEFAULT_ALL_COLUMNS = [ID_COLUMN] + DEFAULT_CATEGORICAL + DEFAULT_NUMERICAL\n",
    "DEFAULT_TRAIN_ALL_COLUMNS = DEFAULT_CATEGORICAL + DEFAULT_NUMERICAL\n",
    "\n",
    "DEFAULT_ALL_COLUMNS"
   ],
   "metadata": {
    "collapsed": false
   }
  },
  {
   "cell_type": "markdown",
   "source": [
    "### Make csv file submission for Kaggle using kaggle_submission_client"
   ],
   "metadata": {
    "collapsed": false
   }
  },
  {
   "cell_type": "code",
   "execution_count": 10,
   "outputs": [
    {
     "name": "stdout",
     "output_type": "stream",
     "text": [
      "mlflow.pyfunc.loaded_model:\n",
      "  artifact_path: model\n",
      "  flavor: mlflow.xgboost\n",
      "  run_id: 21cf301e4e7f459bae86218626159897\n",
      "\n"
     ]
    }
   ],
   "source": [
    "from src.clients import local_client\n",
    "lambda_json_s3_path = \"s3://mlflow-enkidupal-experiments/data/external/test/test.csv\"\n",
    "\n",
    "kaggle_submission_client = local_client.LocalKaggleSubmissionClient(local_client=local_client.LocalPredictClient())\n",
    "\n",
    "submission = kaggle_submission_client.make_kaggle_submission_s3_path(lambda_json_s3_path)\n",
    "submission\n",
    "\n",
    "with open('result.csv', 'w') as fp:\n",
    "    fp.write(submission)\n"
   ],
   "metadata": {
    "collapsed": false
   }
  }
 ],
 "metadata": {
  "kernelspec": {
   "display_name": "Python 3",
   "language": "python",
   "name": "python3"
  },
  "language_info": {
   "codemirror_mode": {
    "name": "ipython",
    "version": 2
   },
   "file_extension": ".py",
   "mimetype": "text/x-python",
   "name": "python",
   "nbconvert_exporter": "python",
   "pygments_lexer": "ipython2",
   "version": "2.7.6"
  }
 },
 "nbformat": 4,
 "nbformat_minor": 0
}
